{
 "cells": [
  {
   "attachments": {},
   "cell_type": "markdown",
   "id": "a9dbf5c2-31b3-43c6-b53d-6b381dd8f817",
   "metadata": {},
   "source": [
    "# Day 1 - Examples\n",
    "\n",
    "In this notebook we cover a few common examples scenarios in which we can use an LLM."
   ]
  },
  {
   "cell_type": "code",
   "execution_count": 1,
   "id": "224ee96e-da77-498c-ba86-fa80539c3892",
   "metadata": {},
   "outputs": [
    {
     "data": {
      "text/plain": [
       "True"
      ]
     },
     "execution_count": 1,
     "metadata": {},
     "output_type": "execute_result"
    }
   ],
   "source": [
    "# Load environment variables\n",
    "from dotenv import load_dotenv\n",
    "\n",
    "load_dotenv(\"../../.env\")"
   ]
  },
  {
   "cell_type": "code",
   "execution_count": 2,
   "id": "edc9d892",
   "metadata": {},
   "outputs": [],
   "source": [
    "from tools import llm_call"
   ]
  },
  {
   "attachments": {},
   "cell_type": "markdown",
   "id": "4005eaaa",
   "metadata": {},
   "source": [
    "## Example 1: Chatbot\n",
    "\n",
    "First we take a look at making a simple chatbot similar to ChatGPT. By retaining the chat history in memory and sending it to the model at each point, we can maintain an entire conversation!"
   ]
  },
  {
   "cell_type": "code",
   "execution_count": 34,
   "id": "032bbf04",
   "metadata": {},
   "outputs": [
    {
     "name": "stdout",
     "output_type": "stream",
     "text": [
      "------SYSTEM PROMPT-------\n",
      "You are a helpful chat assistant.\n",
      "----------PROMPT----------\n",
      "Suggest some places to visit for a vacation.\n",
      "---------RESPONSE---------\n",
      "Sure, here are some ideas based on different types of vacations:\n",
      "\n",
      "1. Tropical Beach Vacation: Maldives, Bora Bora in French Polynesia, Maui in Hawaii, or Bali in Indonesia.\n",
      "2. Adventure and Nature: Banff National Park in Canada, Queenstown in New Zealand, Costa Rica for rainforest hiking and zip-lining, or Safari in Kenya or South Africa.\n",
      "3. History and Culture: Rome and Florence in Italy, Athens in Greece, Cairo in Egypt, or Kyoto in Japan.\n",
      "4. Luxury and Shopping: Paris in France, Dubai in United Arab Emirates, New York in the USA, or Tokyo in Japan.\n",
      "5. Food and Drink: Paris in France, Tokyo in Japan, Bangkok in Thailand, and Mexico City in Mexico.\n",
      "6. Family-friendly: Orlando in Florida (think Disney World), Gold Coast in Australia, Copenhagen in Denmark (home to the original Legoland), or Singapore with its Universal Studios and amazing night safari.\n",
      "7. Romantic Getaway: Venice in Italy, Santorini in Greece, St. Lucia in the Caribbean, or Bruges in Belgium.\n",
      "8. Unique Destinations: Galápagos Islands in Ecuador, Iceland to see the Northern Lights, Machu Picchu in Peru, or explore the fjords in Norway.\n",
      "\n",
      "Please remember to keep updated with the current travel guidelines and restrictions due to COVID-19 before planning your trip.\n",
      "\n"
     ]
    }
   ],
   "source": [
    "system_prompt = \"You are a helpful chat assistant.\"\n",
    "prompt = \"Suggest some places to visit for a vacation.\"\n",
    "\n",
    "print(\"------SYSTEM PROMPT-------\")\n",
    "print(system_prompt)\n",
    "print(\"----------PROMPT----------\")\n",
    "print(prompt)\n",
    "print(\"---------RESPONSE---------\")\n",
    "result, chat_history = llm_call(model=\"gpt-4\", prompt=prompt, system_prompt=system_prompt, return_chat_history=True)\n",
    "print(result)"
   ]
  },
  {
   "cell_type": "code",
   "execution_count": 36,
   "id": "c768799d",
   "metadata": {},
   "outputs": [
    {
     "name": "stdout",
     "output_type": "stream",
     "text": [
      "------SYSTEM PROMPT-------\n",
      "You are a helpful chat assistant.\n",
      "----------PROMPT----------\n",
      "Tokyo sounds great! What are the best places to visit there?\n",
      "---------RESPONSE---------\n",
      "Awesome! Tokyo is a fantastic city with a mix of futuristic high-rises, historic temples, fantastic food scene, and rich culture. Here are some places you might want to consider:\n",
      "\n",
      "1. Shibuya Crossing: One of the busiest pedestrian intersections in the world. The scramble is particularly impressive from the second-story window of the Starbucks overlooking the crossing.\n",
      "\n",
      "2. Meiji Shrine: A Shinto shrine dedicated to the deified spirits of Emperor Meiji and his wife, Empress Shoken. It's surrounded by a beautiful forest.\n",
      "\n",
      "3. Tokyo Disneyland and DisneySea: These are two of the most visited theme parks in the world, offering fantasy, adventure, and fun for all ages.\n",
      "\n",
      "4. Odaiba: A high-tech entertainment hub on the man-made island of Odaiba in Tokyo Bay. It has shopping, dining, water parks, and you can also visit the teamLab Borderless, a digital art museum.\n",
      "\n",
      "5. Asakusa: Home to the Senso-ji Temple, Nakamise Shopping Street, and a great place to experience an older style of Japanese culture.\n",
      "\n",
      "6. Tokyo Skytree: The world's tallest tower, offering incredible views of the city.\n",
      "\n",
      "7. Akihabara: Known for its many electronics shops. In more recent years, it's also gained recognition as the center of Japan's otaku (diehard fan) culture, with many anime and manga shops.\n",
      "\n",
      "8. Shinjuku Gyoen National Garden: One of Tokyo's largest and most popular parks. Excellent for cherry blossom viewing in spring.\n",
      "\n",
      "9. Tsukiji Market: Even though the inner market has moved, Tsukiji's outer market with many food stands, shops, and restaurants remain a food heaven.\n",
      "\n",
      "10. Roppongi: Known for its vibrant nightlife and also home to the Roppongi Hills and Tokyo Midtown complexes, which offer shopping and high-end dining.\n",
      "\n",
      "In addition, local festivals, theatre performances, and dining at a sushi restaurant are a must experience when you're in Tokyo. \n",
      "\n",
      "Please note: Some of these places may have specific opening times or may be affected by local COVID-19 restrictions, so it's a good idea to check before you go.\n"
     ]
    }
   ],
   "source": [
    "system_prompt = \"You are a helpful chat assistant.\"\n",
    "prompt = \"Tokyo sounds great! What are the best places to visit there?\"\n",
    "\n",
    "print(\"------SYSTEM PROMPT-------\")\n",
    "print(system_prompt)\n",
    "print(\"----------PROMPT----------\")\n",
    "print(prompt)\n",
    "print(\"---------RESPONSE---------\")\n",
    "result, chat_history = llm_call(model=\"gpt-4\", prompt=prompt, system_prompt=system_prompt, return_chat_history=True, chat_history=chat_history)\n",
    "print(result)"
   ]
  },
  {
   "cell_type": "code",
   "execution_count": 37,
   "id": "3e5f5e34",
   "metadata": {},
   "outputs": [
    {
     "name": "stdout",
     "output_type": "stream",
     "text": [
      "------SYSTEM PROMPT-------\n",
      "You are a helpful chat assistant.\n",
      "----------PROMPT----------\n",
      "Tell me more about the history of the 8th option.\n",
      "---------RESPONSE---------\n",
      "Shinjuku Gyoen National Garden was originally a residence for the Naitō family (a powerful samurai family) during the Edo Period (1603-1867). After the Meiji Restoration in 1868, which marked the start of the Meiji period, the site was converted into an experimental agricultural station. It was also used as a trial ground for breeding new species of trees.\n",
      "\n",
      "In 1879, the station was put under the control of the Imperial Household Agency and became a garden exclusively for the Imperial Family. It was officially renamed Shinjuku Gyoen. During the bombings of World War II, the garden was severely damaged and after the war, it was used as a temporary agricultural research station.\n",
      "\n",
      "Finally, in 1949, Shinjuku Gyoen was reestablished and opened to the public as a national garden under the management of the Ministry of Environment. The garden now spans 144 acres and showcases three different types of gardens: a French Formal and English Landscape in the north and to the south a more traditional Japanese garden, providing visitors a taste of different garden design aesthetics. \n",
      "\n",
      "Shinjuku Gyoen is also of great social and cultural importance in Japan. It's one of Tokyo's most popular spots for hanami – the annual tradition of celebrating the blooming of cherry blossoms (sakura) by picnicking beneath them.\n"
     ]
    }
   ],
   "source": [
    "system_prompt = \"You are a helpful chat assistant.\"\n",
    "prompt = \"Tell me more about the history of the 8th option.\"\n",
    "\n",
    "print(\"------SYSTEM PROMPT-------\")\n",
    "print(system_prompt)\n",
    "print(\"----------PROMPT----------\")\n",
    "print(prompt)\n",
    "print(\"---------RESPONSE---------\")\n",
    "result, chat_history = llm_call(model=\"gpt-4\", prompt=prompt, system_prompt=system_prompt, return_chat_history=True, chat_history=chat_history)\n",
    "print(result)"
   ]
  },
  {
   "cell_type": "markdown",
   "id": "f8504ad3",
   "metadata": {},
   "source": [
    "## Example 2: Classification\n",
    "\n",
    "Here we consider two problems - a multi-class news classification problem and a binary sentiment classification problem."
   ]
  },
  {
   "cell_type": "markdown",
   "id": "2150c006",
   "metadata": {},
   "source": [
    "### News Classification\n",
    "\n",
    "We setup a template here telling the model to classify news headlines into one of 5 categories. Notice that we have provided the model with a number of examples of what the output should look like. This is an example of few-shot prompting we discussed earlier! "
   ]
  },
  {
   "cell_type": "code",
   "execution_count": 29,
   "id": "71757c88",
   "metadata": {},
   "outputs": [],
   "source": [
    "system_prompt = \"You are a helpful chat assistant. Classify the given news headlines into one of the following categories: [business, entertainment, health, sports, technology]\"\n",
    "\n",
    "prompt = f\"\"\"\n",
    "Text: Pixel 7 Pro Expert Hands On Review. \n",
    "Category: technology \n",
    "\n",
    "Text: Quit smoking? \n",
    "Category: health \n",
    "\n",
    "Text: Birdies or bogeys? Top 5 tips to hit under par \n",
    "Category: sports \n",
    "\n",
    "Text: Relief from local minimum-wage hike looking more remote \n",
    "Category: business \n",
    "\n",
    "Text: Introducing Apple Vision Pro: Apple’s first spatial computer\n",
    "Category: \n",
    "\"\"\""
   ]
  },
  {
   "cell_type": "code",
   "execution_count": 30,
   "id": "62ef2f5f",
   "metadata": {},
   "outputs": [
    {
     "name": "stdout",
     "output_type": "stream",
     "text": [
      "------SYSTEM PROMPT-------\n",
      "You are a helpful chat assistant. Classify the given news headlines into one of the following categories: [business, entertainment, health, sports, technology]\n",
      "----------PROMPT----------\n",
      "\n",
      "Text: Pixel 7 Pro Expert Hands On Review. \n",
      "Category: technology \n",
      "\n",
      "Text: Quit smoking? \n",
      "Category: health \n",
      "\n",
      "Text: Birdies or bogeys? Top 5 tips to hit under par \n",
      "Category: sports \n",
      "\n",
      "Text: Relief from local minimum-wage hike looking more remote \n",
      "Category: business \n",
      "\n",
      "Text: Introducing Apple Vision Pro: Apple’s first spatial computer\n",
      "Category: \n",
      "\n",
      "---------RESPONSE---------\n",
      "technology\n"
     ]
    }
   ],
   "source": [
    "print(\"------SYSTEM PROMPT-------\")\n",
    "print(system_prompt)\n",
    "print(\"----------PROMPT----------\")\n",
    "print(prompt)\n",
    "print(\"---------RESPONSE---------\")\n",
    "print(llm_call(model=\"gpt-4\", prompt=prompt, system_prompt=system_prompt))"
   ]
  },
  {
   "cell_type": "markdown",
   "id": "fb0aa277",
   "metadata": {},
   "source": [
    "### Sentiment Classification"
   ]
  },
  {
   "cell_type": "code",
   "execution_count": 31,
   "id": "cbb21679",
   "metadata": {},
   "outputs": [],
   "source": [
    "system_prompt = \"\"\"You are a helpful chat assistant. Classify the sentiment of any given reviews as \"positive\", \"neutral\" or \"negative\".\"\"\"\n",
    "prompt = \"I loved the new Spider-Man movie!! The animation was really fluid\""
   ]
  },
  {
   "cell_type": "code",
   "execution_count": 32,
   "id": "0f268e56",
   "metadata": {},
   "outputs": [
    {
     "name": "stdout",
     "output_type": "stream",
     "text": [
      "------SYSTEM PROMPT-------\n",
      "You are a helpful chat assistant. Classify the sentiment of any given reviews as \"positive\", \"neutral\" or \"negative\".\n",
      "----------PROMPT----------\n",
      "I loved the new Spider-Man movie!! The animation was really fluid\n",
      "---------RESPONSE---------\n",
      "positive\n"
     ]
    }
   ],
   "source": [
    "print(\"------SYSTEM PROMPT-------\")\n",
    "print(system_prompt)\n",
    "print(\"----------PROMPT----------\")\n",
    "print(prompt)\n",
    "print(\"---------RESPONSE---------\")\n",
    "print(llm_call(model=\"gpt-4\", prompt=prompt, system_prompt=system_prompt))"
   ]
  },
  {
   "cell_type": "markdown",
   "id": "9a3f03bb",
   "metadata": {},
   "source": [
    "## Example 3: Summarization\n",
    "\n",
    "As the name suggests, we simply task the model to summarize a document."
   ]
  },
  {
   "cell_type": "code",
   "execution_count": 26,
   "id": "f9759645",
   "metadata": {},
   "outputs": [],
   "source": [
    "system_prompt=f\"\"\"\n",
    "You are a helpful chat assistant that summarizes given documents into a maximum of 3 sentences.\n",
    "\"\"\""
   ]
  },
  {
   "cell_type": "code",
   "execution_count": 27,
   "id": "bf477ced",
   "metadata": {},
   "outputs": [],
   "source": [
    "prompt = \"\"\"\n",
    "Overview:\n",
    "Tech Solutions Inc. is a leading technology consulting firm specializing in providing innovative solutions to businesses across various industries. We offer a comprehensive range of services including software development, IT consulting, project management, and cybersecurity solutions. \n",
    "With a strong focus on delivering exceptional quality and customer satisfaction, we have established ourselves as a trusted partner for organizations seeking digital transformation.\n",
    "They were founded on April 12, 2005 and raise their first seed in 2007 and series A on May 25, 2007.\n",
    "\n",
    "Founders:\n",
    "\n",
    "Background: John Smith is a visionary entrepreneur with over 20 years of experience in the technology industry. He has a deep understanding of market trends and has successfully led several software development projects for multinational corporations.\n",
    "Role in the Company: As a co-founder of Tech Solutions Inc., John Smith plays a pivotal role in shaping the company's strategic direction. His expertise in software development and leadership skills have been instrumental in driving the company's growth.\n",
    "Sarah Johnson:\n",
    "\n",
    "Background: Sarah Johnson is a highly accomplished technologist with a strong background in software engineering. She has extensive experience in managing complex IT projects and has a proven track record of delivering innovative solutions.\n",
    "Role in the Company: As a co-founder of Tech Solutions Inc., Sarah Johnson leads the company's technical operations. Her deep knowledge of software engineering principles and commitment to excellence have been crucial in establishing the company as a leader in the industry.\n",
    "Together, John Smith and Sarah Johnson founded Tech Solutions Inc. with the aim of providing cutting-edge technology solutions to help businesses thrive in the digital age. Their combined expertise and passion for innovation have been instrumental in the company's success.\n",
    "\"\"\""
   ]
  },
  {
   "cell_type": "code",
   "execution_count": 28,
   "id": "f0d72987",
   "metadata": {},
   "outputs": [
    {
     "name": "stdout",
     "output_type": "stream",
     "text": [
      "------SYSTEM PROMPT-------\n",
      "\n",
      "You are a helpful chat assistant that summarizes given documents into a maximum of 3 sentences.\n",
      "\n",
      "----------PROMPT----------\n",
      "\n",
      "Overview:\n",
      "Tech Solutions Inc. is a leading technology consulting firm specializing in providing innovative solutions to businesses across various industries. We offer a comprehensive range of services including software development, IT consulting, project management, and cybersecurity solutions. \n",
      "With a strong focus on delivering exceptional quality and customer satisfaction, we have established ourselves as a trusted partner for organizations seeking digital transformation.\n",
      "They were founded on April 12, 2005 and raise their first seed in 2007 and series A on May 25, 2007.\n",
      "\n",
      "Founders:\n",
      "\n",
      "Background: John Smith is a visionary entrepreneur with over 20 years of experience in the technology industry. He has a deep understanding of market trends and has successfully led several software development projects for multinational corporations.\n",
      "Role in the Company: As a co-founder of Tech Solutions Inc., John Smith plays a pivotal role in shaping the company's strategic direction. His expertise in software development and leadership skills have been instrumental in driving the company's growth.\n",
      "Sarah Johnson:\n",
      "\n",
      "Background: Sarah Johnson is a highly accomplished technologist with a strong background in software engineering. She has extensive experience in managing complex IT projects and has a proven track record of delivering innovative solutions.\n",
      "Role in the Company: As a co-founder of Tech Solutions Inc., Sarah Johnson leads the company's technical operations. Her deep knowledge of software engineering principles and commitment to excellence have been crucial in establishing the company as a leader in the industry.\n",
      "Together, John Smith and Sarah Johnson founded Tech Solutions Inc. with the aim of providing cutting-edge technology solutions to help businesses thrive in the digital age. Their combined expertise and passion for innovation have been instrumental in the company's success.\n",
      "\n",
      "---------RESPONSE---------\n",
      "Tech Solutions Inc., established on April 12, 2005, is a leading technology consulting firm known for its software development, IT consulting, project management, and cybersecurity solutions. The company was founded by John Smith, a visionary entrepreneur with extensive technology industry experience, who shapes the strategic direction of the company, and Sarah Johnson, a technologist with a strong background in software engineering, who leads the technical operations. Their combined expertise and dedication to innovation have allowed Tech Solutions Inc. to provide exceptional quality services and have established the firm as a trusted partner for digital transformation.\n"
     ]
    }
   ],
   "source": [
    "print(\"------SYSTEM PROMPT-------\")\n",
    "print(system_prompt)\n",
    "print(\"----------PROMPT----------\")\n",
    "print(prompt)\n",
    "print(\"---------RESPONSE---------\")\n",
    "print(llm_call(model=\"gpt-4\", prompt=prompt, system_prompt=system_prompt))"
   ]
  },
  {
   "cell_type": "markdown",
   "id": "c2ea71e3",
   "metadata": {},
   "source": [
    "## Example 4: Entity Extraction\n",
    "\n",
    "In the following example, we illustrate how to prompt the model to extract information from documents. We further extract this in a JSON format so it is usable in downstream applications."
   ]
  },
  {
   "cell_type": "code",
   "execution_count": 5,
   "id": "2cde93b1",
   "metadata": {},
   "outputs": [],
   "source": [
    "system_prompt=f\"\"\"\n",
    "You are a helpful chat assistant. Always follow these instructions:\n",
    "1. Given a document, you must extract the following information:\n",
    "    a. Name of the company.\n",
    "    b. Founders of the company.\n",
    "    c. Founding date.\n",
    "    d. Date of Series A funding.\n",
    "2. If the information is not in the document, output \"Not Specified\"\n",
    "3. Return the output in a JSON format.\n",
    "\"\"\""
   ]
  },
  {
   "cell_type": "code",
   "execution_count": 6,
   "id": "37dd395c",
   "metadata": {},
   "outputs": [],
   "source": [
    "prompt = \"\"\"\n",
    "Overview:\n",
    "Tech Solutions Inc. is a leading technology consulting firm specializing in providing innovative solutions to businesses across various industries. We offer a comprehensive range of services including software development, IT consulting, project management, and cybersecurity solutions. \n",
    "With a strong focus on delivering exceptional quality and customer satisfaction, we have established ourselves as a trusted partner for organizations seeking digital transformation.\n",
    "They were founded on April 12, 2005 and raise their first seed in 2007 and series A on May 25, 2007.\n",
    "\n",
    "Founders:\n",
    "\n",
    "Background: John Smith is a visionary entrepreneur with over 20 years of experience in the technology industry. He has a deep understanding of market trends and has successfully led several software development projects for multinational corporations.\n",
    "Role in the Company: As a co-founder of Tech Solutions Inc., John Smith plays a pivotal role in shaping the company's strategic direction. His expertise in software development and leadership skills have been instrumental in driving the company's growth.\n",
    "Sarah Johnson:\n",
    "\n",
    "Background: Sarah Johnson is a highly accomplished technologist with a strong background in software engineering. She has extensive experience in managing complex IT projects and has a proven track record of delivering innovative solutions.\n",
    "Role in the Company: As a co-founder of Tech Solutions Inc., Sarah Johnson leads the company's technical operations. Her deep knowledge of software engineering principles and commitment to excellence have been crucial in establishing the company as a leader in the industry.\n",
    "Together, John Smith and Sarah Johnson founded Tech Solutions Inc. with the aim of providing cutting-edge technology solutions to help businesses thrive in the digital age. Their combined expertise and passion for innovation have been instrumental in the company's success.\n",
    "\"\"\""
   ]
  },
  {
   "cell_type": "code",
   "execution_count": 9,
   "id": "80979a95",
   "metadata": {},
   "outputs": [
    {
     "name": "stdout",
     "output_type": "stream",
     "text": [
      "------SYSTEM PROMPT-------\n",
      "\n",
      "You are a helpful chat assistant. Always follow these instructions:\n",
      "1. Given a document, you must extract the following information:\n",
      "    a. Name of the company.\n",
      "    b. Founders of the company.\n",
      "    c. Founding date.\n",
      "    d. Date of Series A funding.\n",
      "2. If the information is not in the document, output \"Not Specified\"\n",
      "3. Return the output in a JSON format.\n",
      "\n",
      "----------PROMPT----------\n",
      "\n",
      "Overview:\n",
      "Tech Solutions Inc. is a leading technology consulting firm specializing in providing innovative solutions to businesses across various industries. We offer a comprehensive range of services including software development, IT consulting, project management, and cybersecurity solutions. \n",
      "With a strong focus on delivering exceptional quality and customer satisfaction, we have established ourselves as a trusted partner for organizations seeking digital transformation.\n",
      "They were founded on April 12, 2005 and raise their first seed in 2007 and series A on May 25, 2007.\n",
      "\n",
      "Founders:\n",
      "\n",
      "Background: John Smith is a visionary entrepreneur with over 20 years of experience in the technology industry. He has a deep understanding of market trends and has successfully led several software development projects for multinational corporations.\n",
      "Role in the Company: As a co-founder of Tech Solutions Inc., John Smith plays a pivotal role in shaping the company's strategic direction. His expertise in software development and leadership skills have been instrumental in driving the company's growth.\n",
      "Sarah Johnson:\n",
      "\n",
      "Background: Sarah Johnson is a highly accomplished technologist with a strong background in software engineering. She has extensive experience in managing complex IT projects and has a proven track record of delivering innovative solutions.\n",
      "Role in the Company: As a co-founder of Tech Solutions Inc., Sarah Johnson leads the company's technical operations. Her deep knowledge of software engineering principles and commitment to excellence have been crucial in establishing the company as a leader in the industry.\n",
      "Together, John Smith and Sarah Johnson founded Tech Solutions Inc. with the aim of providing cutting-edge technology solutions to help businesses thrive in the digital age. Their combined expertise and passion for innovation have been instrumental in the company's success.\n",
      "\n",
      "---------RESPONSE---------\n",
      "{\n",
      "  \"Name of the company\": \"Tech Solutions Inc.\",\n",
      "  \"Founders of the company\": [\"John Smith\", \"Sarah Johnson\"],\n",
      "  \"Founding date\": \"April 12, 2005\",\n",
      "  \"Date of Series A funding\": \"May 25, 2007\"\n",
      "}\n"
     ]
    }
   ],
   "source": [
    "print(\"------SYSTEM PROMPT-------\")\n",
    "print(system_prompt)\n",
    "print(\"----------PROMPT----------\")\n",
    "print(prompt)\n",
    "print(\"---------RESPONSE---------\")\n",
    "print(llm_call(model=\"gpt-4\", prompt=prompt, system_prompt=system_prompt))"
   ]
  },
  {
   "cell_type": "markdown",
   "id": "906958fc",
   "metadata": {},
   "source": [
    "In practice, we can modify the system prompt with rules and conditions to structure it in the way we want. For instance, we could offer possible values for each field we extract - say `founding_date: <2000-2010, 2010-2020, or 2020-2030>`. We can even provide an entire JSON template for the LLM to return. In the next notebook we take this a little further and demonstrate the function calling capabilities of the GPT line of models."
   ]
  },
  {
   "cell_type": "markdown",
   "id": "b88a2cd2",
   "metadata": {},
   "source": [
    "## Example 5: Code Generation\n",
    "\n",
    "We consider two examples in this area. The first is SQL generation and the second is Python generation."
   ]
  },
  {
   "cell_type": "markdown",
   "id": "6c787ca4",
   "metadata": {},
   "source": [
    "### SQL Generation"
   ]
  },
  {
   "cell_type": "code",
   "execution_count": 11,
   "id": "e1b9a677",
   "metadata": {},
   "outputs": [],
   "source": [
    "system_prompt = f\"\"\"\n",
    "You are a database analyst. Always follow these instructions:\n",
    "1. Given SQL database schemas, return queries to answer the following questions:\n",
    "    a. How many employees are in the sales department?\n",
    "    b. Which employee earns the most?\n",
    "    c. Which is the biggest department?\n",
    "\"\"\""
   ]
  },
  {
   "cell_type": "code",
   "execution_count": 12,
   "id": "5bb525c1",
   "metadata": {},
   "outputs": [],
   "source": [
    "prompt = \"\"\"\n",
    "Employee(id, name, department_id)\n",
    "Department(id, name, address)\n",
    "Salary(employee_id, amount)\n",
    "\"\"\""
   ]
  },
  {
   "cell_type": "code",
   "execution_count": 13,
   "id": "5a8475f7",
   "metadata": {},
   "outputs": [
    {
     "name": "stdout",
     "output_type": "stream",
     "text": [
      "------SYSTEM PROMPT-------\n",
      "\n",
      "You are a database analyst. Always follow these instructions:\n",
      "1. Given SQL database schemas, return queries to answer the following questions:\n",
      "    a. How many employees are in the sales department?\n",
      "    b. Which employee earns the most?\n",
      "    c. Which is the biggest department?\n",
      "\n",
      "----------PROMPT----------\n",
      "\n",
      "Employee(id, name, department_id)\n",
      "Department(id, name, address)\n",
      "Salary(employee_id, amount)\n",
      "\n",
      "---------RESPONSE---------\n",
      "a. To find how many employees are in the sales department, you need to join the Employee and Department tables through the `department_id` and filter where the department name equals 'sales'. Here is the SQL query:\n",
      "\n",
      "```sql\n",
      "SELECT COUNT(*) \n",
      "FROM Employee \n",
      "INNER JOIN Department ON Employee.department_id = Department.id \n",
      "WHERE Department.name = 'sales';\n",
      "```\n",
      "\n",
      "b. To determine the employee who earns the most, join the Employee and Salary tables, then sort in descending order by salary `amount` and limit the result to the top-most record:\n",
      "\n",
      "```sql\n",
      "SELECT Employee.id, Employee.name\n",
      "FROM Employee \n",
      "INNER JOIN Salary ON Employee.id = Salary.employee_id \n",
      "ORDER BY Salary.amount DESC \n",
      "LIMIT 1;\n",
      "```\n",
      "\n",
      "c. To know the biggest department, you need to count the number of employees in each department, which you do by grouping by `department_id`. Sort in descending order and limit the result to the top-most record:\n",
      "\n",
      "```sql\n",
      "SELECT Department.id, Department.name, COUNT(Employee.id) AS employee_count\n",
      "FROM Employee\n",
      "INNER JOIN Department ON Employee.department_id = Department.id\n",
      "GROUP BY Department.id, Department.name\n",
      "ORDER BY employee_count DESC\n",
      "LIMIT 1;\n",
      "```\n"
     ]
    }
   ],
   "source": [
    "print(\"------SYSTEM PROMPT-------\")\n",
    "print(system_prompt)\n",
    "print(\"----------PROMPT----------\")\n",
    "print(prompt)\n",
    "print(\"---------RESPONSE---------\")\n",
    "print(llm_call(model=\"gpt-4\", prompt=prompt, system_prompt=system_prompt))"
   ]
  },
  {
   "cell_type": "markdown",
   "id": "0b2bc796",
   "metadata": {},
   "source": [
    "While this seems right at first glance, it is not a good idea to just drop this in as-is. In any cases of code generation, it is important to add some validation and security checks. For instance, we should ensure that the queries are not able to modify the database. We also need some way to check if the query is actually a valid SQL query. In tomorrow's session we go over Agents and Tools which can help with this."
   ]
  },
  {
   "cell_type": "markdown",
   "id": "92a0b288",
   "metadata": {},
   "source": [
    "### Python Generation"
   ]
  },
  {
   "cell_type": "code",
   "execution_count": 23,
   "id": "49b80d16",
   "metadata": {},
   "outputs": [],
   "source": [
    "system_prompt = f\"\"\"\n",
    "You are a coding assistant. Always follow these instructions:\n",
    "1. Given a prompt, return code in Python to complete the task.\n",
    "2. Ensure that the code if properly formatted with illustrative variable names.\n",
    "\"\"\""
   ]
  },
  {
   "cell_type": "code",
   "execution_count": 24,
   "id": "5718ef56",
   "metadata": {},
   "outputs": [],
   "source": [
    "prompt = \"\"\"How do I find all prime numbers?\"\"\""
   ]
  },
  {
   "cell_type": "code",
   "execution_count": 25,
   "id": "c0d9fc98",
   "metadata": {},
   "outputs": [
    {
     "name": "stdout",
     "output_type": "stream",
     "text": [
      "------SYSTEM PROMPT-------\n",
      "\n",
      "You are a coding assistant. Always follow these instructions:\n",
      "1. Given a prompt, return code in Python to complete the task.\n",
      "2. Ensure that the code if properly formatted with illustrative variable names.\n",
      "\n",
      "----------PROMPT----------\n",
      "How do I find all prime numbers?\n",
      "---------RESPONSE---------\n",
      "Here is a simple example of code that finds and prints all prime numbers up to a given number `n`. A prime number is a natural number greater than 1 that has no positive divisors other than 1 and itself. The prime numbers less than 20 are 2, 3, 5, 7, 11, 13, 17, and 19.\n",
      "\n",
      "```python\n",
      "def find_all_primes(n):\n",
      "    primes = []\n",
      "    for possiblePrime in range(2, n + 1):\n",
      "        # Assume number is prime until shown it is not. \n",
      "        isPrime = True\n",
      "        for num in range(2, int(possiblePrime ** 0.5) + 1):\n",
      "            if possiblePrime % num == 0:\n",
      "                isPrime = False\n",
      "                break\n",
      "        if isPrime:\n",
      "            primes.append(possiblePrime)\n",
      "    return primes\n",
      "\n",
      "n = 20\n",
      "print(find_all_primes(n))\n",
      "```\n",
      "\n",
      "In this code, `possiblePrime` is a number which is checked if prime or not, `num` is the divisor of `possiblePrime`. A number is considered as prime if it doesn't have any divisor between 2 and sqrt(`possiblePrime`). If the `possiblePrime` has a divisor, it's not prime and isPrime is set to False.\n",
      "\n",
      "Finally, if `isPrime` is still True after checking all possible divisors, then `possiblePrime` is a prime number and it is added to the `primes` list.\n",
      "\n",
      "This code will print `[2, 3, 5, 7, 11, 13, 17, 19]` when `n` is 20.\n"
     ]
    }
   ],
   "source": [
    "print(\"------SYSTEM PROMPT-------\")\n",
    "print(system_prompt)\n",
    "print(\"----------PROMPT----------\")\n",
    "print(prompt)\n",
    "print(\"---------RESPONSE---------\")\n",
    "print(llm_call(model=\"gpt-4\", prompt=prompt, system_prompt=system_prompt))"
   ]
  },
  {
   "cell_type": "markdown",
   "id": "19b8eccc",
   "metadata": {},
   "source": [
    "As before, it's important to validate this code and ensure it is safe and doesn't have any bugs. In tomorrow's session we go over Agents and Tools which can help with this."
   ]
  },
  {
   "cell_type": "markdown",
   "id": "100ffb82",
   "metadata": {},
   "source": [
    "## Evaluation & Answer Spaces\n",
    "\n",
    "Something to keep in mind while working on these problems is evaluation. Broadly, we can think of problems as falling into one of two categories:\n",
    "\n",
    "**Natural Language Generation (NLG)**: \n",
    "\n",
    "This implies an unconstrained answer space where the model can output pretty much anything. Tasks that fall into this category are things like summarization, code generation, and chatbots. In these scenarios, we may have difficulty determining if an answer is correct. There are solutions to this kind of problem though and we will go into the details in future sessions.\n",
    "  \n",
    "**Natural Language Understanding (NLU)**: \n",
    "\n",
    "Here the set of possible answers is constrained. Tasks that fall into this category include things like classification and entity extraction. In these scenarios, there's a finite set of answers that we care about. For example, in sentiment analysis we're looking for one of positive, negative, and neutral. We can easily evaluate models under this class as there are many quantitative metrics we can use here such as Precision and Recall. \n",
    "\n",
    "With open source models, it is pretty easy to get the probabilities of only the answers we want by calculating the conditional probability of each of the possible answers. That is, for a given answer X, we calculate the probability `P(X|input)` for all possible answers. The highest probability then corresponds to the prediction.\n",
    "\n",
    "However, this approach is not possible for closed source models where we only receive direct predictions. While we unfortunately don't have access to the actual confidence of a prediction, we can still get the prediction itself and evaluate the model. This does however require us to ensure that the model gives us outputs in a consistent format that we can work with, such as a JSON or just a single word output like we've seen in the above examples."
   ]
  }
 ],
 "metadata": {
  "kernelspec": {
   "display_name": "Python 3 (ipykernel)",
   "language": "python",
   "name": "python3"
  },
  "language_info": {
   "codemirror_mode": {
    "name": "ipython",
    "version": 3
   },
   "file_extension": ".py",
   "mimetype": "text/x-python",
   "name": "python",
   "nbconvert_exporter": "python",
   "pygments_lexer": "ipython3",
   "version": "3.10.11"
  }
 },
 "nbformat": 4,
 "nbformat_minor": 5
}
