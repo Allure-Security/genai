{
 "cells": [
  {
   "attachments": {},
   "cell_type": "markdown",
   "id": "a9dbf5c2-31b3-43c6-b53d-6b381dd8f817",
   "metadata": {},
   "source": [
    "# Day 1 - Examples\n",
    "\n",
    "In this notebook we cover a few common examples scenarios in which we can use an LLM."
   ]
  },
  {
   "cell_type": "code",
   "execution_count": 1,
   "id": "224ee96e-da77-498c-ba86-fa80539c3892",
   "metadata": {},
   "outputs": [
    {
     "data": {
      "text/plain": [
       "True"
      ]
     },
     "execution_count": 1,
     "metadata": {},
     "output_type": "execute_result"
    }
   ],
   "source": [
    "# Load environment variables\n",
    "from dotenv import load_dotenv\n",
    "\n",
    "load_dotenv(\"../../.env\")"
   ]
  },
  {
   "cell_type": "code",
   "execution_count": 2,
   "id": "edc9d892",
   "metadata": {},
   "outputs": [],
   "source": [
    "from tools import llm_call"
   ]
  },
  {
   "attachments": {},
   "cell_type": "markdown",
   "id": "4005eaaa",
   "metadata": {},
   "source": [
    "## Example 1: Chatbot\n",
    "\n",
    "via GPT-4\n",
    "\n",
    "First we take a look at making a simple chatbot similar to ChatGPT. By retaining the chat history in memory and sending it to the model at each point, we can maintain an entire conversation!"
   ]
  },
  {
   "cell_type": "code",
   "execution_count": 3,
   "id": "032bbf04",
   "metadata": {},
   "outputs": [
    {
     "name": "stdout",
     "output_type": "stream",
     "text": [
      "------SYSTEM PROMPT-------\n",
      "You are a helpful chat assistant.\n",
      "----------PROMPT----------\n",
      "Suggest some places to visit for a vacation.\n",
      "---------RESPONSE---------\n",
      "Sure, here are some wonderful places you might consider for your next vacation based on different preferences:\n",
      "\n",
      "1. Nature & Wildlife: \n",
      "   - The Serengeti, Tanzania\n",
      "   - The Amazon Rainforest, Brazil\n",
      "   - Yellowstone National Park, USA\n",
      "   - Great Barrier Reef, Australia\n",
      "   - Galapagos Islands, Ecuador\n",
      "\n",
      "2. Adventure: \n",
      "   - Mount Everest, Nepal\n",
      "   - The Inca Trail, Peru\n",
      "   - Queenstown, New Zealand\n",
      "   - Interlaken, Switzerland\n",
      "   - Moab, USA\n",
      "\n",
      "3. History & Culture: \n",
      "   - Rome, Italy\n",
      "   - Cairo, Egypt\n",
      "   - Athens, Greece\n",
      "   - Kyoto, Japan\n",
      "   - Istanbul, Turkey\n",
      "\n",
      "4. Relaxation: \n",
      "   - Maldives\n",
      "   - Maui, Hawaii\n",
      "   - Phuket, Thailand\n",
      "   - Amalfi Coast, Italy\n",
      "   - Santorini, Greece\n",
      "   \n",
      "5. Modern Architecture & Shopping:\n",
      "   - New York, USA\n",
      "   - Dubai, UAE\n",
      "   - Paris, France\n",
      "   - Tokyo, Japan\n",
      "   - London, UK\n",
      "   \n",
      "It's hard to give a comprehensive list as the world is full of amazing places. If you have a more specific interest or preferences, feel free to let me know, so I can tailor the suggestions more towards your liking.\n"
     ]
    }
   ],
   "source": [
    "system_prompt = \"You are a helpful chat assistant.\"\n",
    "prompt = \"Suggest some places to visit for a vacation.\"\n",
    "\n",
    "print(\"------SYSTEM PROMPT-------\")\n",
    "print(system_prompt)\n",
    "print(\"----------PROMPT----------\")\n",
    "print(prompt)\n",
    "print(\"---------RESPONSE---------\")\n",
    "result, chat_history = llm_call(model=\"gpt-4\", prompt=prompt, system_prompt=system_prompt, return_chat_history=True)\n",
    "print(result)"
   ]
  },
  {
   "cell_type": "code",
   "execution_count": 4,
   "id": "c768799d",
   "metadata": {},
   "outputs": [
    {
     "name": "stdout",
     "output_type": "stream",
     "text": [
      "------SYSTEM PROMPT-------\n",
      "You are a helpful chat assistant.\n",
      "----------PROMPT----------\n",
      "Tokyo sounds great! What are the best places to visit there?\n",
      "---------RESPONSE---------\n",
      "Absolutely, Tokyo is a fantastic city! Here are some of the top places to visit:\n",
      "\n",
      "1. **Tokyo Disneyland and DisneySea**: Both parks are uniquely Japanese, DisneySea being a one of a kind themed park.\n",
      "\n",
      "2. **Senso-ji Temple**: This is one of Tokyo's most colorful and popular temples, located in Asakusa.\n",
      "\n",
      "3. **Meiji Shrine**: Surrounded by beautiful forest, it's dedicated to the deified spirits of Emperor Meiji and his wife.\n",
      "\n",
      "4. **Shinjuku Gyoen National Garden**: Provides a beautiful escape from the city. Particularly appealing during cherry blossom season.\n",
      "\n",
      "5. **Tokyo Sky Tree**: The tallest structure in Japan, providing stunning views of the city.\n",
      "\n",
      "6. **Tsukiji Fish Market**: Must visit for sushi lovers. The outer market has numerous food stalls.\n",
      "\n",
      "7. **Akihabara**: A district famous for its many electronics shops. It's also the center of Japan's otaku (die-hard fan) culture, with many anime and manga shops.\n",
      "\n",
      "8. **The Imperial Palace**: The primary residence of the Emperor of Japan, it includes beautiful parks, walls and moats.\n",
      "\n",
      "9. **Shibuya Crossing**: Known as the world's busiest pedestrian crossing, it perfectly embodies the bustling activity of Tokyo.\n",
      "\n",
      "10. **Odaiba**: A large artificial island with various attractions such as shopping, dining, entertainment complexes and a spectacular view of Rainbow Bridge.\n",
      "\n",
      "Don't forget to take your time to also explore Tokyo's diverse food scene, ranging from street food and Izakaya (Japanese pubs), to world-class sushi and kaiseki restaurants.\n"
     ]
    }
   ],
   "source": [
    "system_prompt = \"You are a helpful chat assistant.\"\n",
    "prompt = \"Tokyo sounds great! What are the best places to visit there?\"\n",
    "\n",
    "print(\"------SYSTEM PROMPT-------\")\n",
    "print(system_prompt)\n",
    "print(\"----------PROMPT----------\")\n",
    "print(prompt)\n",
    "print(\"---------RESPONSE---------\")\n",
    "result, chat_history = llm_call(model=\"gpt-4\", prompt=prompt, system_prompt=system_prompt, return_chat_history=True, chat_history=chat_history)\n",
    "print(result)"
   ]
  },
  {
   "cell_type": "code",
   "execution_count": 5,
   "id": "3e5f5e34",
   "metadata": {},
   "outputs": [
    {
     "name": "stdout",
     "output_type": "stream",
     "text": [
      "------SYSTEM PROMPT-------\n",
      "You are a helpful chat assistant.\n",
      "----------PROMPT----------\n",
      "Tell me more about the history of the 8th option.\n",
      "---------RESPONSE---------\n",
      "Sure, the 8th option refers to the Imperial Palace, which is a large park-like area located in the Chiyoda ward of Tokyo and contains several buildings including the main palace, the private residences of the Imperial Family, an archive, museums, and administrative offices.\n",
      "\n",
      "The Imperial Palace, also known as the \"Kyūjō\" in Japanese, was completed in 1888 and was formerly known as Edo Castle (Edo-jō). It was the seat of the Tokugawa shogun who ruled Japan from 1603 until 1867. Edo Castle used to be the site of the shogun’s palace. \n",
      "\n",
      "In 1868, the shogunate was overthrown, and the country's capital and Imperial Residence were moved from Kyoto to Tokyo, previously known as Edo. Edo Castle became the Imperial Castle (皇城, Kōjō). The palace was destroyed during World War II and was rebuilt in the same style, afterwards.\n",
      "\n",
      "The castle's famous stone walls were largely intact and impressive moats, bridges, and gates from the original castle structure are defining features of the current palace. Despite not all sections being open to the public, it's admired for the beautiful grounds, gardens, and views of the city it offers.\n",
      "\n",
      "The Imperial Palace East Gardens are a part of the inner palace area and are open to the public. They are the former site of Edo Castle's innermost circles of defense, the honmaru (\"main circle\") and ninomaru (\"secondary circle\").\n"
     ]
    }
   ],
   "source": [
    "system_prompt = \"You are a helpful chat assistant.\"\n",
    "prompt = \"Tell me more about the history of the 8th option.\"\n",
    "\n",
    "print(\"------SYSTEM PROMPT-------\")\n",
    "print(system_prompt)\n",
    "print(\"----------PROMPT----------\")\n",
    "print(prompt)\n",
    "print(\"---------RESPONSE---------\")\n",
    "result, chat_history = llm_call(model=\"gpt-4\", prompt=prompt, system_prompt=system_prompt, return_chat_history=True, chat_history=chat_history)\n",
    "print(result)"
   ]
  },
  {
   "cell_type": "markdown",
   "id": "f8504ad3",
   "metadata": {},
   "source": [
    "## Example 2: Classification\n",
    "\n",
    "Here we consider two problems - a multi-class news classification problem and a binary sentiment classification problem."
   ]
  },
  {
   "cell_type": "markdown",
   "id": "2150c006",
   "metadata": {},
   "source": [
    "### News Classification\n",
    "\n",
    "via PaLM 2 (text-bison)\n",
    "\n",
    "We set up a template here telling the model to classify news headlines into one of 5 categories. Notice that we have provided the model with a number of examples of what the output should look like. This is an example of few-shot prompting we discussed earlier! "
   ]
  },
  {
   "cell_type": "code",
   "execution_count": 22,
   "id": "71757c88",
   "metadata": {},
   "outputs": [],
   "source": [
    "# Text Bison does not support system prompts so we combine the two\n",
    "prompt = f\"\"\"\n",
    "Classify the given news headlines into one of the following categories: [business, entertainment, health, sports, technology]\n",
    "\n",
    "Text: Pixel 7 Pro Expert Hands On Review. \n",
    "Category: technology \n",
    "\n",
    "Text: Quit smoking? \n",
    "Category: health \n",
    "\n",
    "Text: Birdies or bogeys? Top 5 tips to hit under par \n",
    "Category: sports \n",
    "\n",
    "Text: Relief from local minimum-wage hike looking more remote \n",
    "Category: business \n",
    "\n",
    "Text: Introducing Apple Vision Pro: Apple’s first spatial computer\n",
    "Category: \n",
    "\"\"\""
   ]
  },
  {
   "cell_type": "code",
   "execution_count": 23,
   "id": "62ef2f5f",
   "metadata": {},
   "outputs": [
    {
     "name": "stdout",
     "output_type": "stream",
     "text": [
      "------SYSTEM PROMPT-------\n",
      "\n",
      "You are a helpful chat assistant. Always follow these instructions:\n",
      "1. Given a document, you must extract the following information:\n",
      "    a. Name of the company.\n",
      "    b. Founders of the company.\n",
      "    c. Founding date.\n",
      "    d. Date of Series A funding.\n",
      "2. If the information is not in the document, output \"Not Specified\"\n",
      "3. Return the output in a JSON format.\n",
      "\n",
      "----------PROMPT----------\n",
      "\n",
      "Classify the given news headlines into one of the following categories: [business, entertainment, health, sports, technology]\n",
      "\n",
      "Text: Pixel 7 Pro Expert Hands On Review. \n",
      "Category: technology \n",
      "\n",
      "Text: Quit smoking? \n",
      "Category: health \n",
      "\n",
      "Text: Birdies or bogeys? Top 5 tips to hit under par \n",
      "Category: sports \n",
      "\n",
      "Text: Relief from local minimum-wage hike looking more remote \n",
      "Category: business \n",
      "\n",
      "Text: Introducing Apple Vision Pro: Apple’s first spatial computer\n",
      "Category: \n",
      "\n",
      "---------RESPONSE---------\n",
      "technology\n"
     ]
    }
   ],
   "source": [
    "print(\"------SYSTEM PROMPT-------\")\n",
    "print(system_prompt)\n",
    "print(\"----------PROMPT----------\")\n",
    "print(prompt)\n",
    "print(\"---------RESPONSE---------\")\n",
    "print(llm_call(model=\"text-bison\", prompt=prompt, system_prompt=system_prompt))"
   ]
  },
  {
   "cell_type": "markdown",
   "id": "fb0aa277",
   "metadata": {},
   "source": [
    "### Sentiment Classification\n",
    "\n",
    "via Claude 2"
   ]
  },
  {
   "cell_type": "code",
   "execution_count": 30,
   "id": "cbb21679",
   "metadata": {},
   "outputs": [],
   "source": [
    "# Claude 2 doesn't focus on system prompts. \n",
    "# It also requires specific formatting.\n",
    "prompt = \"\"\"\\n\\nHuman: Classify the sentiment of any given reviews as \"positive\", \"neutral\" or \"negative\" with a single word.\n",
    "Sentence: I loved the new Spider-Man movie!! The animation was really fluid.\n",
    "\\n\\nAssistant:\"\"\""
   ]
  },
  {
   "cell_type": "code",
   "execution_count": 31,
   "id": "0f268e56",
   "metadata": {},
   "outputs": [
    {
     "name": "stdout",
     "output_type": "stream",
     "text": [
      "----------PROMPT----------\n",
      "\n",
      "\n",
      "Human: Classify the sentiment of any given reviews as \"positive\", \"neutral\" or \"negative\" with a single word.\n",
      "Sentence: I loved the new Spider-Man movie!! The animation was really fluid.\n",
      "\n",
      "\n",
      "Assistant:\n",
      "---------RESPONSE---------\n",
      " positive\n"
     ]
    }
   ],
   "source": [
    "print(\"----------PROMPT----------\")\n",
    "print(prompt)\n",
    "print(\"---------RESPONSE---------\")\n",
    "print(llm_call(model=\"claude-v2\", prompt=prompt, system_prompt=system_prompt, parameters={\"max_tokens_to_sample\": 256}))"
   ]
  },
  {
   "cell_type": "markdown",
   "id": "9a3f03bb",
   "metadata": {},
   "source": [
    "## Example 3: Summarization\n",
    "\n",
    "via LLaMa 2 70B\n",
    "\n",
    "As the name suggests, we simply task the model to summarize a document."
   ]
  },
  {
   "cell_type": "code",
   "execution_count": 11,
   "id": "f9759645",
   "metadata": {},
   "outputs": [],
   "source": [
    "system_prompt=f\"\"\"\n",
    "You are a helpful chat assistant that summarizes given documents into a maximum of 3 sentences.\n",
    "\"\"\""
   ]
  },
  {
   "cell_type": "code",
   "execution_count": 12,
   "id": "bf477ced",
   "metadata": {},
   "outputs": [],
   "source": [
    "prompt = \"\"\"\n",
    "Overview:\n",
    "Tech Solutions Inc. is a leading technology consulting firm specializing in providing innovative solutions to businesses across various industries. We offer a comprehensive range of services including software development, IT consulting, project management, and cybersecurity solutions. \n",
    "With a strong focus on delivering exceptional quality and customer satisfaction, we have established ourselves as a trusted partner for organizations seeking digital transformation.\n",
    "They were founded on April 12, 2005 and raise their first seed in 2007 and series A on May 25, 2007.\n",
    "\n",
    "Founders:\n",
    "\n",
    "Background: John Smith is a visionary entrepreneur with over 20 years of experience in the technology industry. He has a deep understanding of market trends and has successfully led several software development projects for multinational corporations.\n",
    "Role in the Company: As a co-founder of Tech Solutions Inc., John Smith plays a pivotal role in shaping the company's strategic direction. His expertise in software development and leadership skills have been instrumental in driving the company's growth.\n",
    "Sarah Johnson:\n",
    "\n",
    "Background: Sarah Johnson is a highly accomplished technologist with a strong background in software engineering. She has extensive experience in managing complex IT projects and has a proven track record of delivering innovative solutions.\n",
    "Role in the Company: As a co-founder of Tech Solutions Inc., Sarah Johnson leads the company's technical operations. Her deep knowledge of software engineering principles and commitment to excellence have been crucial in establishing the company as a leader in the industry.\n",
    "Together, John Smith and Sarah Johnson founded Tech Solutions Inc. with the aim of providing cutting-edge technology solutions to help businesses thrive in the digital age. Their combined expertise and passion for innovation have been instrumental in the company's success.\n",
    "\"\"\""
   ]
  },
  {
   "cell_type": "code",
   "execution_count": 13,
   "id": "f0d72987",
   "metadata": {},
   "outputs": [
    {
     "name": "stdout",
     "output_type": "stream",
     "text": [
      "------SYSTEM PROMPT-------\n",
      "\n",
      "You are a helpful chat assistant that summarizes given documents into a maximum of 3 sentences.\n",
      "\n",
      "----------PROMPT----------\n",
      "\n",
      "Overview:\n",
      "Tech Solutions Inc. is a leading technology consulting firm specializing in providing innovative solutions to businesses across various industries. We offer a comprehensive range of services including software development, IT consulting, project management, and cybersecurity solutions. \n",
      "With a strong focus on delivering exceptional quality and customer satisfaction, we have established ourselves as a trusted partner for organizations seeking digital transformation.\n",
      "They were founded on April 12, 2005 and raise their first seed in 2007 and series A on May 25, 2007.\n",
      "\n",
      "Founders:\n",
      "\n",
      "Background: John Smith is a visionary entrepreneur with over 20 years of experience in the technology industry. He has a deep understanding of market trends and has successfully led several software development projects for multinational corporations.\n",
      "Role in the Company: As a co-founder of Tech Solutions Inc., John Smith plays a pivotal role in shaping the company's strategic direction. His expertise in software development and leadership skills have been instrumental in driving the company's growth.\n",
      "Sarah Johnson:\n",
      "\n",
      "Background: Sarah Johnson is a highly accomplished technologist with a strong background in software engineering. She has extensive experience in managing complex IT projects and has a proven track record of delivering innovative solutions.\n",
      "Role in the Company: As a co-founder of Tech Solutions Inc., Sarah Johnson leads the company's technical operations. Her deep knowledge of software engineering principles and commitment to excellence have been crucial in establishing the company as a leader in the industry.\n",
      "Together, John Smith and Sarah Johnson founded Tech Solutions Inc. with the aim of providing cutting-edge technology solutions to help businesses thrive in the digital age. Their combined expertise and passion for innovation have been instrumental in the company's success.\n",
      "\n",
      "---------RESPONSE---------\n",
      " Sure! Here is a summary of the given document in three sentences:\n",
      "\n",
      "Tech Solutions Inc. is a technology consulting firm that specializes in software development, IT consulting, project management, and cybersecurity solutions. The company was founded in 2005 by John Smith and Sarah Johnson, who bring a combined 40 years of experience in the technology industry to the table. Together, they have established Tech Solutions Inc. as a trusted partner for organizations seeking digital transformation.\n"
     ]
    }
   ],
   "source": [
    "print(\"------SYSTEM PROMPT-------\")\n",
    "print(system_prompt)\n",
    "print(\"----------PROMPT----------\")\n",
    "print(prompt)\n",
    "print(\"---------RESPONSE---------\")\n",
    "print(llm_call(model=\"Llama-2-70b-chat-hf\", prompt=prompt, system_prompt=system_prompt))"
   ]
  },
  {
   "cell_type": "markdown",
   "id": "c2ea71e3",
   "metadata": {},
   "source": [
    "## Example 4: Entity Extraction\n",
    "\n",
    "via LLaMa 2 13B\n",
    "\n",
    "In the following example, we illustrate how to prompt the model to extract information from documents. We further extract this in a JSON format so it is usable in downstream applications."
   ]
  },
  {
   "cell_type": "code",
   "execution_count": 32,
   "id": "2cde93b1",
   "metadata": {},
   "outputs": [],
   "source": [
    "system_prompt=f\"\"\"\n",
    "You are a helpful chat assistant. Always follow these instructions:\n",
    "1. Given a document, you must extract the following information:\n",
    "    a. Name of the company.\n",
    "    b. Founders of the company.\n",
    "    c. Founding date.\n",
    "    d. Date of Series A funding.\n",
    "2. If the information is not in the document, output \"Not Specified\"\n",
    "3. Return the output in a JSON format.\n",
    "\"\"\""
   ]
  },
  {
   "cell_type": "code",
   "execution_count": 33,
   "id": "37dd395c",
   "metadata": {},
   "outputs": [],
   "source": [
    "prompt = \"\"\"\n",
    "Overview:\n",
    "Tech Solutions Inc. is a leading technology consulting firm specializing in providing innovative solutions to businesses across various industries. We offer a comprehensive range of services including software development, IT consulting, project management, and cybersecurity solutions. \n",
    "With a strong focus on delivering exceptional quality and customer satisfaction, we have established ourselves as a trusted partner for organizations seeking digital transformation.\n",
    "They were founded on April 12, 2005 and raise their first seed in 2007 and series A on May 25, 2007.\n",
    "\n",
    "Founders:\n",
    "\n",
    "Background: John Smith is a visionary entrepreneur with over 20 years of experience in the technology industry. He has a deep understanding of market trends and has successfully led several software development projects for multinational corporations.\n",
    "Role in the Company: As a co-founder of Tech Solutions Inc., John Smith plays a pivotal role in shaping the company's strategic direction. His expertise in software development and leadership skills have been instrumental in driving the company's growth.\n",
    "Sarah Johnson:\n",
    "\n",
    "Background: Sarah Johnson is a highly accomplished technologist with a strong background in software engineering. She has extensive experience in managing complex IT projects and has a proven track record of delivering innovative solutions.\n",
    "Role in the Company: As a co-founder of Tech Solutions Inc., Sarah Johnson leads the company's technical operations. Her deep knowledge of software engineering principles and commitment to excellence have been crucial in establishing the company as a leader in the industry.\n",
    "Together, John Smith and Sarah Johnson founded Tech Solutions Inc. with the aim of providing cutting-edge technology solutions to help businesses thrive in the digital age. Their combined expertise and passion for innovation have been instrumental in the company's success.\n",
    "\"\"\""
   ]
  },
  {
   "cell_type": "code",
   "execution_count": 34,
   "id": "80979a95",
   "metadata": {},
   "outputs": [
    {
     "name": "stdout",
     "output_type": "stream",
     "text": [
      "------SYSTEM PROMPT-------\n",
      "\n",
      "You are a helpful chat assistant. Always follow these instructions:\n",
      "1. Given a document, you must extract the following information:\n",
      "    a. Name of the company.\n",
      "    b. Founders of the company.\n",
      "    c. Founding date.\n",
      "    d. Date of Series A funding.\n",
      "2. If the information is not in the document, output \"Not Specified\"\n",
      "3. Return the output in a JSON format.\n",
      "\n",
      "----------PROMPT----------\n",
      "\n",
      "Overview:\n",
      "Tech Solutions Inc. is a leading technology consulting firm specializing in providing innovative solutions to businesses across various industries. We offer a comprehensive range of services including software development, IT consulting, project management, and cybersecurity solutions. \n",
      "With a strong focus on delivering exceptional quality and customer satisfaction, we have established ourselves as a trusted partner for organizations seeking digital transformation.\n",
      "They were founded on April 12, 2005 and raise their first seed in 2007 and series A on May 25, 2007.\n",
      "\n",
      "Founders:\n",
      "\n",
      "Background: John Smith is a visionary entrepreneur with over 20 years of experience in the technology industry. He has a deep understanding of market trends and has successfully led several software development projects for multinational corporations.\n",
      "Role in the Company: As a co-founder of Tech Solutions Inc., John Smith plays a pivotal role in shaping the company's strategic direction. His expertise in software development and leadership skills have been instrumental in driving the company's growth.\n",
      "Sarah Johnson:\n",
      "\n",
      "Background: Sarah Johnson is a highly accomplished technologist with a strong background in software engineering. She has extensive experience in managing complex IT projects and has a proven track record of delivering innovative solutions.\n",
      "Role in the Company: As a co-founder of Tech Solutions Inc., Sarah Johnson leads the company's technical operations. Her deep knowledge of software engineering principles and commitment to excellence have been crucial in establishing the company as a leader in the industry.\n",
      "Together, John Smith and Sarah Johnson founded Tech Solutions Inc. with the aim of providing cutting-edge technology solutions to help businesses thrive in the digital age. Their combined expertise and passion for innovation have been instrumental in the company's success.\n",
      "\n",
      "---------RESPONSE---------\n",
      " Here is the information you requested in JSON format:\n",
      "\n",
      "{\n",
      "\"company\": {\n",
      "\"name\": \"Tech Solutions Inc.\",\n",
      "\"founders\": [\n",
      "{\n",
      "\"name\": \"John Smith\",\n",
      "\"background\": \"visionary entrepreneur with over 20 years of experience in the technology industry\",\n",
      "\"role\": \"co-founder and strategic direction\"\n",
      "},\n",
      "{\n",
      "\"name\": \"Sarah Johnson\",\n",
      "\"background\": \"highly accomplished technologist with a strong background in software engineering\",\n",
      "\"role\": \"co-founder and technical operations\"\n",
      "}\n",
      "],\n",
      "\"founding_date\": \"April 12, 2005\",\n",
      "\"series_a_funding\": \"May 25, 2007\"\n",
      "}\n",
      "}\n",
      "\n",
      "I hope this helps! Let me know if you have any other questions.\n"
     ]
    }
   ],
   "source": [
    "print(\"------SYSTEM PROMPT-------\")\n",
    "print(system_prompt)\n",
    "print(\"----------PROMPT----------\")\n",
    "print(prompt)\n",
    "print(\"---------RESPONSE---------\")\n",
    "print(llm_call(model=\"Llama-2-13b-chat-hf\", prompt=prompt, system_prompt=system_prompt))"
   ]
  },
  {
   "cell_type": "markdown",
   "id": "906958fc",
   "metadata": {},
   "source": [
    "In practice, we can modify the system prompt with rules and conditions to structure it in the way we want. For instance, we could offer possible values for each field we extract - say `founding_date: <2000-2010, 2010-2020, or 2020-2030>`. We can even provide an entire JSON template for the LLM to return. In the next notebook we take this a little further and demonstrate the function calling capabilities of the GPT line of models."
   ]
  },
  {
   "cell_type": "markdown",
   "id": "b88a2cd2",
   "metadata": {},
   "source": [
    "## Example 5: Code Generation\n",
    "\n",
    "We consider two examples in this area. The first is SQL generation and the second is Python generation."
   ]
  },
  {
   "cell_type": "markdown",
   "id": "6c787ca4",
   "metadata": {},
   "source": [
    "### SQL Generation\n",
    "\n",
    "via PaLM 2 (chat-bison)"
   ]
  },
  {
   "cell_type": "code",
   "execution_count": 35,
   "id": "e1b9a677",
   "metadata": {},
   "outputs": [],
   "source": [
    "system_prompt = f\"\"\"\n",
    "You are a database analyst. Always follow these instructions:\n",
    "1. Given SQL database schemas, return queries to answer the following questions:\n",
    "    a. How many employees are in the sales department?\n",
    "    b. Which employee earns the most?\n",
    "    c. Which is the biggest department?\n",
    "\"\"\""
   ]
  },
  {
   "cell_type": "code",
   "execution_count": 36,
   "id": "5bb525c1",
   "metadata": {},
   "outputs": [],
   "source": [
    "prompt = \"\"\"\n",
    "Employee(id, name, department_id)\n",
    "Department(id, name, address)\n",
    "Salary(employee_id, amount)\n",
    "\"\"\""
   ]
  },
  {
   "cell_type": "code",
   "execution_count": 37,
   "id": "5a8475f7",
   "metadata": {},
   "outputs": [
    {
     "name": "stdout",
     "output_type": "stream",
     "text": [
      "------SYSTEM PROMPT-------\n",
      "\n",
      "You are a database analyst. Always follow these instructions:\n",
      "1. Given SQL database schemas, return queries to answer the following questions:\n",
      "    a. How many employees are in the sales department?\n",
      "    b. Which employee earns the most?\n",
      "    c. Which is the biggest department?\n",
      "\n",
      "----------PROMPT----------\n",
      "\n",
      "Employee(id, name, department_id)\n",
      "Department(id, name, address)\n",
      "Salary(employee_id, amount)\n",
      "\n",
      "---------RESPONSE---------\n",
      "a. ```\n",
      "SELECT COUNT(*)\n",
      "FROM Employee\n",
      "WHERE department_id = (\n",
      "  SELECT id\n",
      "  FROM Department\n",
      "  WHERE name = 'Sales'\n",
      ");\n",
      "```\n",
      "\n",
      "b. ```\n",
      "SELECT name, amount\n",
      "FROM Employee\n",
      "JOIN Salary\n",
      "ON Employee.id = Salary.employee_id\n",
      "ORDER BY amount DESC\n",
      "LIMIT 1;\n",
      "```\n",
      "\n",
      "c. ```\n",
      "SELECT name, COUNT(*)\n",
      "FROM Employee\n",
      "JOIN Department\n",
      "ON Employee.department_id = Department.id\n",
      "GROUP BY Department.name\n",
      "ORDER BY COUNT(*) DESC\n",
      "LIMIT 1;\n",
      "```\n"
     ]
    }
   ],
   "source": [
    "print(\"------SYSTEM PROMPT-------\")\n",
    "print(system_prompt)\n",
    "print(\"----------PROMPT----------\")\n",
    "print(prompt)\n",
    "print(\"---------RESPONSE---------\")\n",
    "print(llm_call(model=\"chat-bison\", prompt=prompt, system_prompt=system_prompt))"
   ]
  },
  {
   "cell_type": "markdown",
   "id": "0b2bc796",
   "metadata": {},
   "source": [
    "While this seems right at first glance, it may not be a good idea to use this SQL as-is. In any case of code generation, it is important to add some validation and security checks. For instance, we should ensure that the queries are not able to modify the database. We also need some way to check if the query is actually a valid SQL query. In tomorrow's session we go over Agents and Tools which can help with this."
   ]
  },
  {
   "cell_type": "markdown",
   "id": "92a0b288",
   "metadata": {},
   "source": [
    "### Python Generation\n",
    "\n",
    "via GPT-3.5-turbo"
   ]
  },
  {
   "cell_type": "code",
   "execution_count": 38,
   "id": "49b80d16",
   "metadata": {},
   "outputs": [],
   "source": [
    "system_prompt = f\"\"\"\n",
    "You are a coding assistant. Always follow these instructions:\n",
    "1. Given a prompt, return code in Python to complete the task.\n",
    "2. Ensure that the code if properly formatted with illustrative variable names.\n",
    "\"\"\""
   ]
  },
  {
   "cell_type": "code",
   "execution_count": 39,
   "id": "5718ef56",
   "metadata": {},
   "outputs": [],
   "source": [
    "prompt = \"\"\"How do I find all prime numbers?\"\"\""
   ]
  },
  {
   "cell_type": "code",
   "execution_count": 40,
   "id": "c0d9fc98",
   "metadata": {},
   "outputs": [
    {
     "name": "stdout",
     "output_type": "stream",
     "text": [
      "------SYSTEM PROMPT-------\n",
      "\n",
      "You are a coding assistant. Always follow these instructions:\n",
      "1. Given a prompt, return code in Python to complete the task.\n",
      "2. Ensure that the code if properly formatted with illustrative variable names.\n",
      "\n",
      "----------PROMPT----------\n",
      "How do I find all prime numbers?\n",
      "---------RESPONSE---------\n",
      "To find all prime numbers, you can use the Sieve of Eratosthenes algorithm. This algorithm works by iteratively marking the multiples of each prime number, starting from 2, as composite (not prime). Here's an example code that implements the Sieve of Eratosthenes algorithm:\n",
      "\n",
      "```python\n",
      "def find_all_primes(n):\n",
      "    # Create a boolean array \"is_prime[0..n]\" and initialize\n",
      "    # all entries it as true. A value in is_prime[i] will\n",
      "    # finally be false if i is Not a prime, else true.\n",
      "    is_prime = [True] * (n+1)\n",
      "    is_prime[0] = is_prime[1] = False\n",
      "\n",
      "    # Iterate through all numbers from 2 to sqrt(n)\n",
      "    for i in range(2, int(n**0.5) + 1):\n",
      "        if is_prime[i]:\n",
      "            # Mark all multiples of i as composite numbers\n",
      "            for j in range(i*i, n+1, i):\n",
      "                is_prime[j] = False\n",
      "\n",
      "    # Return a list of all prime numbers\n",
      "    primes = [num for num, prime in enumerate(is_prime) if prime]     \n",
      "    return primes\n",
      "\n",
      "# Example usage: find all prime numbers up to 100\n",
      "primes = find_all_primes(100)\n",
      "print(primes)\n",
      "```\n",
      "\n",
      "This code will output the list of all prime numbers up to a given number `n`. In the example, it will print all the prime numbers up to 100.\n"
     ]
    }
   ],
   "source": [
    "print(\"------SYSTEM PROMPT-------\")\n",
    "print(system_prompt)\n",
    "print(\"----------PROMPT----------\")\n",
    "print(prompt)\n",
    "print(\"---------RESPONSE---------\")\n",
    "print(llm_call(model=\"gpt-3.5-turbo\", prompt=prompt, system_prompt=system_prompt))"
   ]
  },
  {
   "cell_type": "markdown",
   "id": "19b8eccc",
   "metadata": {},
   "source": [
    "As before, it's important to validate this code and ensure it is safe and doesn't have any bugs. In tomorrow's session we go over Agents and Tools which can help with this."
   ]
  },
  {
   "cell_type": "markdown",
   "id": "100ffb82",
   "metadata": {},
   "source": [
    "## Evaluation & Answer Spaces\n",
    "\n",
    "Something to keep in mind while working on these problems is evaluation. Broadly, we can think of problems as falling into one of two categories:\n",
    "\n",
    "**Natural Language Generation (NLG)**: \n",
    "\n",
    "Natural Language Generation implies an unconstrained answer space where the model can output pretty much anything. Tasks that fall into this category are things like summarization, code generation and chatbots. In these scenarios, we may have difficulty determining if an answer is correct. There are solutions to this kind of problem though and we will go into the details in future sessions.\n",
    "  \n",
    "**Natural Language Understanding (NLU)**: \n",
    "\n",
    "With NLU, the set of possible answers is constrained. Tasks that fall into this category include things like classification and entity extraction. In these scenarios, there's a finite set of answers that we care about. For example, in sentiment analysis we're looking for one of positive, negative and neutral. We can easily evaluate models under this class as there are many quantitative metrics we can use here such as Precision and Recall. \n",
    "\n",
    "With open source models, it is pretty easy to get the probabilities of only the answers we want by calculating the conditional probability of each of the possible answers. That is, for a given answer X, we calculate the probability `P(X|input)` for all possible answers. The highest probability then corresponds to the prediction.\n",
    "\n",
    "However, this approach is not possible for closed source models where we only receive direct predictions. While we unfortunately don't have access to the actual confidence of a prediction, we can still get the prediction itself and evaluate the model. This does however require us to ensure that the model gives us outputs in a consistent format that we can work with, such as a JSON or just a single word output like we've seen in the above examples."
   ]
  }
 ],
 "metadata": {
  "kernelspec": {
   "display_name": "Python 3 (ipykernel)",
   "language": "python",
   "name": "python3"
  },
  "language_info": {
   "codemirror_mode": {
    "name": "ipython",
    "version": 3
   },
   "file_extension": ".py",
   "mimetype": "text/x-python",
   "name": "python",
   "nbconvert_exporter": "python",
   "pygments_lexer": "ipython3",
   "version": "3.10.11"
  }
 },
 "nbformat": 4,
 "nbformat_minor": 5
}
