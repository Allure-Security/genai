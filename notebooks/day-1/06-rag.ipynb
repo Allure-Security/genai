{
 "cells": [
  {
   "cell_type": "markdown",
   "metadata": {},
   "source": [
    "# Retrieval Augmented Generation (RAG)\n",
    "\n",
    "When it comes to answering prompts LLMs may not always return a factual response. This is especially true if the prompt asks the LLM information about something it may not necessarily know. For instance, ChatGPT was trained on data until [September 2021](https://help.openai.com/en/articles/6825453-chatgpt-release-notes). So if we ask it about events after this time period it might respond with a statement that it doesn't have knowledge of the event, or, it might flat out hallucinate something.\n",
    "\n",
    "A simple way to handle this issue is to provide model with relevant context as seen in the examples below. Retrieval Augmented Generation or RAG can be broken down into three steps - retrieval, augmentation, and generation. We first *retrieve* relevant data based on the prompt. This data can be stored locally, in memory, in a database etc. We can employ different search algorithms such as a keyword search, a semantic search or a hybrid search to find the relevant data. Then we *augment* our prompt by appending this data as context. Finally, we send the completed prompt to the LLM to *generate* an answer.\n",
    "\n",
    "You can read more about this area in the [Georgian AI Library](https://github.com/georgian-io/GAL/blob/main/Prompting%20Tools%20%26%20Techniques/information_retrieval.md)."
   ]
  },
  {
   "cell_type": "code",
   "execution_count": 1,
   "metadata": {},
   "outputs": [
    {
     "data": {
      "text/plain": [
       "True"
      ]
     },
     "execution_count": 1,
     "metadata": {},
     "output_type": "execute_result"
    }
   ],
   "source": [
    "# Load environment variables\n",
    "from dotenv import load_dotenv\n",
    "\n",
    "load_dotenv(\"../../.env\")"
   ]
  },
  {
   "cell_type": "code",
   "execution_count": 2,
   "metadata": {},
   "outputs": [],
   "source": [
    "from tools import llm_call"
   ]
  },
  {
   "cell_type": "markdown",
   "metadata": {},
   "source": [
    "## A Failure Case\n",
    "\n",
    "Examples of model responses on information outside the training data."
   ]
  },
  {
   "cell_type": "code",
   "execution_count": 4,
   "metadata": {},
   "outputs": [
    {
     "name": "stdout",
     "output_type": "stream",
     "text": [
      "----------PROMPT----------\n",
      "Who won the 2022 FIFA World Cup?\n",
      "---------RESPONSE---------\n",
      "As of my last update in October 2021, the 2022 FIFA World Cup has not yet taken place. It is scheduled to be held in Qatar in November and December 2022.\n"
     ]
    }
   ],
   "source": [
    "prompt = \"\"\"Who won the 2022 FIFA World Cup?\"\"\"\n",
    "\n",
    "print(\"----------PROMPT----------\")\n",
    "print(prompt)\n",
    "print(\"---------RESPONSE---------\")\n",
    "result = llm_call(model=\"gpt-4\", prompt=prompt, parameters={\"temperature\": 0.0})\n",
    "print(result)"
   ]
  },
  {
   "cell_type": "code",
   "execution_count": 7,
   "metadata": {},
   "outputs": [
    {
     "name": "stdout",
     "output_type": "stream",
     "text": [
      "----------PROMPT----------\n",
      "Who won the 2022 FIFA World Cup?\n",
      "---------RESPONSE---------\n",
      "France\n"
     ]
    }
   ],
   "source": [
    "prompt = \"\"\"Who won the 2022 FIFA World Cup?\"\"\"\n",
    "\n",
    "print(\"----------PROMPT----------\")\n",
    "print(prompt)\n",
    "print(\"---------RESPONSE---------\")\n",
    "result = llm_call(model=\"chat-bison\", prompt=prompt, parameters={\"temperature\": 0.0})\n",
    "print(result)"
   ]
  },
  {
   "cell_type": "markdown",
   "metadata": {},
   "source": [
    "GPT-4 as it states above, had training data until October 2021 and declines to answer. PaLM (chat-bison) which uses training data until [Feb 2023](https://cloud.google.com/vertex-ai/docs/generative-ai/learn/models#foundation_models) gives us the wrong answer! While France was a finalist, Argentina won the World Cup!"
   ]
  },
  {
   "cell_type": "markdown",
   "metadata": {},
   "source": [
    "## Now With Context\n",
    "\n",
    "We ask the same question to both model again but this time we use context from [Wikipedia](https://en.wikipedia.org/wiki/2022_FIFA_World_Cup)."
   ]
  },
  {
   "cell_type": "code",
   "execution_count": 8,
   "metadata": {},
   "outputs": [],
   "source": [
    "context = \"\"\"\n",
    "The 2022 FIFA World Cup was the 22nd FIFA World Cup, the world championship for national football teams organized by FIFA. It took place in Qatar from 20 November to 18 December 2022, after the country was awarded the hosting rights in 2010. It was the first World Cup to be held in the Arab world and Muslim world, and the second held entirely in Asia after the 2002 tournament in South Korea and Japan.[A]\n",
    "\n",
    "This tournament was the last with 32 participating teams, with the number of teams being increased to 48 for the 2026 edition. To avoid the extremes of Qatar's hot climate,[B] the event was held during November and December.[C] It was held over a reduced time frame of 29 days with 64 matches played in eight venues across five cities. Qatar entered the event—their first World Cup—automatically as the host's national team, alongside 31 teams determined by the qualification process.\n",
    "\n",
    "Argentina were crowned the champions after winning the final against the title holder France 4–2 on penalties following a 3–3 draw after extra time. It was Argentina's third title and their first since 1986, as well being the first nation from outside of Europe to win the tournament since 2002. French player Kylian Mbappé became the first player to score a hat-trick in a World Cup final since Geoff Hurst in the 1966 final and won the Golden Boot as he scored the most goals (eight) during the tournament. Argentine captain Lionel Messi was voted the tournament's best player, winning the Golden Ball. The tournament has been considered exceptionally poetic as the capstone of his career, for some commentators fulfilling a previously unmet criterion to be regarded the greatest player of all time.[4] Teammates Emiliano Martínez and Enzo Fernández won the Golden Glove, awarded to the tournament's best goalkeeper; and the Young Player Award, awarded to the tournament's best young player, respectively. With 172 goals, the tournament set a record for the highest number of goals scored in the 32-team format, with every participating team scoring at least one goal.\n",
    "\n",
    "The choice to host the World Cup in Qatar attracted significant criticism, with concerns raised over the country's treatment of migrant workers, women and members of the LGBT community, as well as Qatar's climate, lack of a strong football culture, scheduling changes, and allegations of bribery for hosting rights and wider FIFA corruption.[D]\n",
    "\"\"\""
   ]
  },
  {
   "cell_type": "code",
   "execution_count": 9,
   "metadata": {},
   "outputs": [
    {
     "name": "stdout",
     "output_type": "stream",
     "text": [
      "----------PROMPT----------\n",
      "Who won the 2022 FIFA World Cup?\n",
      "Context:\n",
      "\n",
      "The 2022 FIFA World Cup was the 22nd FIFA World Cup, the world championship for national football teams organized by FIFA. It took place in Qatar from 20 November to 18 December 2022, after the country was awarded the hosting rights in 2010. It was the first World Cup to be held in the Arab world and Muslim world, and the second held entirely in Asia after the 2002 tournament in South Korea and Japan.[A]\n",
      "\n",
      "This tournament was the last with 32 participating teams, with the number of teams being increased to 48 for the 2026 edition. To avoid the extremes of Qatar's hot climate,[B] the event was held during November and December.[C] It was held over a reduced time frame of 29 days with 64 matches played in eight venues across five cities. Qatar entered the event—their first World Cup—automatically as the host's national team, alongside 31 teams determined by the qualification process.\n",
      "\n",
      "Argentina were crowned the champions after winning the final against the title holder France 4–2 on penalties following a 3–3 draw after extra time. It was Argentina's third title and their first since 1986, as well being the first nation from outside of Europe to win the tournament since 2002. French player Kylian Mbappé became the first player to score a hat-trick in a World Cup final since Geoff Hurst in the 1966 final and won the Golden Boot as he scored the most goals (eight) during the tournament. Argentine captain Lionel Messi was voted the tournament's best player, winning the Golden Ball. The tournament has been considered exceptionally poetic as the capstone of his career, for some commentators fulfilling a previously unmet criterion to be regarded the greatest player of all time.[4] Teammates Emiliano Martínez and Enzo Fernández won the Golden Glove, awarded to the tournament's best goalkeeper; and the Young Player Award, awarded to the tournament's best young player, respectively. With 172 goals, the tournament set a record for the highest number of goals scored in the 32-team format, with every participating team scoring at least one goal.\n",
      "\n",
      "The choice to host the World Cup in Qatar attracted significant criticism, with concerns raised over the country's treatment of migrant workers, women and members of the LGBT community, as well as Qatar's climate, lack of a strong football culture, scheduling changes, and allegations of bribery for hosting rights and wider FIFA corruption.[D]\n",
      "\n",
      "---------RESPONSE---------\n",
      "Argentina won the 2022 FIFA World Cup.\n"
     ]
    }
   ],
   "source": [
    "prompt = f\"\"\"Who won the 2022 FIFA World Cup?\\nContext:\\n{context}\"\"\"\n",
    "\n",
    "print(\"----------PROMPT----------\")\n",
    "print(prompt)\n",
    "print(\"---------RESPONSE---------\")\n",
    "result = llm_call(model=\"gpt-4\", prompt=prompt, parameters={\"temperature\": 0.0})\n",
    "print(result)"
   ]
  },
  {
   "cell_type": "code",
   "execution_count": 10,
   "metadata": {},
   "outputs": [
    {
     "name": "stdout",
     "output_type": "stream",
     "text": [
      "----------PROMPT----------\n",
      "Who won the 2022 FIFA World Cup?\n",
      "Context:\n",
      "\n",
      "The 2022 FIFA World Cup was the 22nd FIFA World Cup, the world championship for national football teams organized by FIFA. It took place in Qatar from 20 November to 18 December 2022, after the country was awarded the hosting rights in 2010. It was the first World Cup to be held in the Arab world and Muslim world, and the second held entirely in Asia after the 2002 tournament in South Korea and Japan.[A]\n",
      "\n",
      "This tournament was the last with 32 participating teams, with the number of teams being increased to 48 for the 2026 edition. To avoid the extremes of Qatar's hot climate,[B] the event was held during November and December.[C] It was held over a reduced time frame of 29 days with 64 matches played in eight venues across five cities. Qatar entered the event—their first World Cup—automatically as the host's national team, alongside 31 teams determined by the qualification process.\n",
      "\n",
      "Argentina were crowned the champions after winning the final against the title holder France 4–2 on penalties following a 3–3 draw after extra time. It was Argentina's third title and their first since 1986, as well being the first nation from outside of Europe to win the tournament since 2002. French player Kylian Mbappé became the first player to score a hat-trick in a World Cup final since Geoff Hurst in the 1966 final and won the Golden Boot as he scored the most goals (eight) during the tournament. Argentine captain Lionel Messi was voted the tournament's best player, winning the Golden Ball. The tournament has been considered exceptionally poetic as the capstone of his career, for some commentators fulfilling a previously unmet criterion to be regarded the greatest player of all time.[4] Teammates Emiliano Martínez and Enzo Fernández won the Golden Glove, awarded to the tournament's best goalkeeper; and the Young Player Award, awarded to the tournament's best young player, respectively. With 172 goals, the tournament set a record for the highest number of goals scored in the 32-team format, with every participating team scoring at least one goal.\n",
      "\n",
      "The choice to host the World Cup in Qatar attracted significant criticism, with concerns raised over the country's treatment of migrant workers, women and members of the LGBT community, as well as Qatar's climate, lack of a strong football culture, scheduling changes, and allegations of bribery for hosting rights and wider FIFA corruption.[D]\n",
      "\n",
      "---------RESPONSE---------\n",
      "Argentina were crowned the champions after winning the final against the title holder France 4–2 on penalties following a 3–3 draw after extra time.\n"
     ]
    }
   ],
   "source": [
    "prompt = f\"\"\"Who won the 2022 FIFA World Cup?\\nContext:\\n{context}\"\"\"\n",
    "\n",
    "print(\"----------PROMPT----------\")\n",
    "print(prompt)\n",
    "print(\"---------RESPONSE---------\")\n",
    "result = llm_call(model=\"chat-bison\", prompt=prompt, parameters={\"temperature\": 0.0})\n",
    "print(result)"
   ]
  },
  {
   "cell_type": "markdown",
   "metadata": {},
   "source": [
    "And there we have it! Giving context to the model helps it answer questions for us. We can use this in other scenarios too - such as answering questions from private datasets or internal documentation. We just give the relevant documents and get an answer! Pretty simply right?\n",
    "\n",
    "...right?\n",
    "\n",
    "Well..."
   ]
  },
  {
   "cell_type": "markdown",
   "metadata": {},
   "source": [
    "## Retrieval\n",
    "\n",
    "While giving context certainly helps the model, a big challenge is to figure out what context we can give the model in an automated fashion. Using the above example of \"Who won the 2022 FIFA World Cup?\", we would need a way to identify the correct document from all the available documents. That is, we have a search problem. Given thousands or even millions of documents, how do we retrieve the right one(s)? \n",
    "\n",
    "In the above case, we need to ensure we retrieve the Wikipedia page for the [2022 FIFA World Cup](https://en.wikipedia.org/wiki/2022_FIFA_World_Cup), not the [2026 FIFA World Cup](https://en.wikipedia.org/wiki/2026_FIFA_World_Cup) or the [2023 Rugby World Cup](https://en.wikipedia.org/wiki/2023_Rugby_World_Cup) or the [2021 FIFA Futsal World Cup](https://en.wikipedia.org/wiki/2021_FIFA_Futsal_World_Cup). The following examples illustrates a simple scenario where we use retrieval with [QDrant](https://qdrant.tech/) as a vector database. \n",
    "\n",
    "For more information on the retrieval strategies, you can check out the Georgian AI Library. For a more holistic perspective of a RAG system along side engineering considerations such as scale and latency, we'll have a session comparing different vector databases in tomorrow's session! And finally, to learn more about using vector databases in practice, we have a demo session from the folks at QDrant this week.\n",
    "\n",
    "The Plan:\n",
    "1. Take a toy dataset and obtain embeddings for each document. \n",
    "2. Store the embeddings in the database.\n",
    "3. Create a prompt to send to the model.\n",
    "4. Search our embeddings for the document most relevant to the prompt.\n",
    "5. Add the most relevant document as context to the prompt.\n",
    "6. Send the final prompt to the model.\n",
    "7. Get the answer we want!\n",
    "\n",
    "The rest of this demo is based on this [demo](https://colab.research.google.com/drive/1Bz8RSVHwnNDaNtDwotfPj0w7AYzsdXZ-) from QDrant."
   ]
  },
  {
   "cell_type": "code",
   "execution_count": 4,
   "metadata": {},
   "outputs": [],
   "source": [
    "from qdrant_client import models, QdrantClient\n",
    "from sentence_transformers import SentenceTransformer\n",
    "import json"
   ]
  },
  {
   "cell_type": "markdown",
   "metadata": {},
   "source": [
    "### Data\n",
    "\n",
    "For our list of documents we just use a toy dataset consisting of the Wikipedia blobs from the above example. In typical usecases you might have your own set of documents you want to use or an existing dataset."
   ]
  },
  {
   "cell_type": "code",
   "execution_count": 5,
   "metadata": {},
   "outputs": [],
   "source": [
    "with open(\"rag_dataset.json\", \"r\") as fp:\n",
    "    documents = json.load(fp)"
   ]
  },
  {
   "cell_type": "markdown",
   "metadata": {},
   "source": [
    "We have an associated title and description for each document."
   ]
  },
  {
   "cell_type": "code",
   "execution_count": 7,
   "metadata": {},
   "outputs": [
    {
     "data": {
      "text/plain": [
       "['2026 FIFA World Cup',\n",
       " '2022 FIFA World Cup',\n",
       " '2023 Rugby World Cup',\n",
       " '2021 FIFA Futsal World Cup',\n",
       " 'Poutine',\n",
       " 'Canada',\n",
       " 'Ice Hockey World Championships',\n",
       " 'Pizza Margherita',\n",
       " 'Mozzarella',\n",
       " 'Pizza']"
      ]
     },
     "execution_count": 7,
     "metadata": {},
     "output_type": "execute_result"
    }
   ],
   "source": [
    "[x[\"title\"] for x in documents]"
   ]
  },
  {
   "cell_type": "code",
   "execution_count": 10,
   "metadata": {},
   "outputs": [
    {
     "data": {
      "text/plain": [
       "'Poutine (Quebec French: [put͡sɪn] ⓘ) is a dish of french fries and cheese curds topped with a brown gravy. It emerged in Quebec, in the late 1950s in the Centre-du-Québec region, though its exact origins are uncertain and there are several competing claims regarding its invention. For many years, it was used by some to mock Quebec society.[1] Poutine later became celebrated as a symbol of Québécois culture and the province of Quebec. It has long been associated with Quebec cuisine, and its rise in prominence has led to its growing popularity throughout the rest of Canada.\\n\\nAnnual poutine celebrations occur in Montreal, Quebec City, and Drummondville, as well as Toronto, Ottawa, New Hampshire, and Chicago. It has been called \"Canada\\'s national dish\", though some critics believe this labelling represents cultural appropriation of the Québécois or Quebec\\'s national identity. Many variations on the original recipe are popular, leading some to suggest that poutine has emerged as a new dish classification in its own right, as with sandwiches and dumplings.[1]'"
      ]
     },
     "execution_count": 10,
     "metadata": {},
     "output_type": "execute_result"
    }
   ],
   "source": [
    "documents[4][\"description\"]"
   ]
  },
  {
   "cell_type": "markdown",
   "metadata": {},
   "source": [
    "### Embeddings\n",
    "In math, we can represent a point in 2D space (X, Y) where the first number is the value in the first dimension and the second number is the value in the second dimension. You can think of an embedding as representing a concept in a multidimensional space (anywhere from 32 dimensions to a whopping 1536 dimensions!). Each dimension here represents some aspect of this concept. While the actual aspect varies, we can think of it as dimensions representing things like colors, shapes or feelings.\n",
    "\n",
    "### Embedding Model\n",
    "The [Massive Text Embedding Benchmark (MTEB)](https://huggingface.co/spaces/mteb/leaderboard) compares different embedding models. We pick a small [model](https://huggingface.co/thenlper/gte-small) from this list for the demo.\n",
    "\n",
    "### Vector Database\n",
    "\n",
    "We aren't going to talk much about vector databases today. That's in future sessions (one tomorrow and a hands-on demo from QDrant later!). For now we're just storing things in memory using QDrant."
   ]
  },
  {
   "cell_type": "code",
   "execution_count": 11,
   "metadata": {},
   "outputs": [
    {
     "data": {
      "application/vnd.jupyter.widget-view+json": {
       "model_id": "3aa7ba12d05647149007e12c1c6e3d07",
       "version_major": 2,
       "version_minor": 0
      },
      "text/plain": [
       "Downloading (…)2e6d8/.gitattributes:   0%|          | 0.00/1.52k [00:00<?, ?B/s]"
      ]
     },
     "metadata": {},
     "output_type": "display_data"
    },
    {
     "data": {
      "application/vnd.jupyter.widget-view+json": {
       "model_id": "5624d7c2f978413e8dcd601ebd4c54b9",
       "version_major": 2,
       "version_minor": 0
      },
      "text/plain": [
       "Downloading (…)_Pooling/config.json:   0%|          | 0.00/190 [00:00<?, ?B/s]"
      ]
     },
     "metadata": {},
     "output_type": "display_data"
    },
    {
     "data": {
      "application/vnd.jupyter.widget-view+json": {
       "model_id": "676984d665cd41a4817d6c653ef8c85f",
       "version_major": 2,
       "version_minor": 0
      },
      "text/plain": [
       "Downloading (…)9e0ce2e6d8/README.md:   0%|          | 0.00/68.1k [00:00<?, ?B/s]"
      ]
     },
     "metadata": {},
     "output_type": "display_data"
    },
    {
     "data": {
      "application/vnd.jupyter.widget-view+json": {
       "model_id": "680e7b8761e348f1b5b92d839a7367e0",
       "version_major": 2,
       "version_minor": 0
      },
      "text/plain": [
       "Downloading (…)0ce2e6d8/config.json:   0%|          | 0.00/583 [00:00<?, ?B/s]"
      ]
     },
     "metadata": {},
     "output_type": "display_data"
    },
    {
     "data": {
      "application/vnd.jupyter.widget-view+json": {
       "model_id": "1ef269951d474e9ba7db36b05b2c2e9b",
       "version_major": 2,
       "version_minor": 0
      },
      "text/plain": [
       "Downloading pytorch_model.bin:   0%|          | 0.00/66.8M [00:00<?, ?B/s]"
      ]
     },
     "metadata": {},
     "output_type": "display_data"
    },
    {
     "data": {
      "application/vnd.jupyter.widget-view+json": {
       "model_id": "17be4fd1426d43f3ab3f2fc6fa770f2e",
       "version_major": 2,
       "version_minor": 0
      },
      "text/plain": [
       "Downloading (…)nce_bert_config.json:   0%|          | 0.00/57.0 [00:00<?, ?B/s]"
      ]
     },
     "metadata": {},
     "output_type": "display_data"
    },
    {
     "data": {
      "application/vnd.jupyter.widget-view+json": {
       "model_id": "f7b49456ab2445c29e0a3bf390e86493",
       "version_major": 2,
       "version_minor": 0
      },
      "text/plain": [
       "Downloading (…)cial_tokens_map.json:   0%|          | 0.00/125 [00:00<?, ?B/s]"
      ]
     },
     "metadata": {},
     "output_type": "display_data"
    },
    {
     "data": {
      "application/vnd.jupyter.widget-view+json": {
       "model_id": "618c6e1b95544bf092640bdf0ba998a6",
       "version_major": 2,
       "version_minor": 0
      },
      "text/plain": [
       "Downloading (…)2e6d8/tokenizer.json:   0%|          | 0.00/712k [00:00<?, ?B/s]"
      ]
     },
     "metadata": {},
     "output_type": "display_data"
    },
    {
     "data": {
      "application/vnd.jupyter.widget-view+json": {
       "model_id": "e6a5c12670984b09848c0d1f47f7c331",
       "version_major": 2,
       "version_minor": 0
      },
      "text/plain": [
       "Downloading (…)okenizer_config.json:   0%|          | 0.00/394 [00:00<?, ?B/s]"
      ]
     },
     "metadata": {},
     "output_type": "display_data"
    },
    {
     "data": {
      "application/vnd.jupyter.widget-view+json": {
       "model_id": "5c2e120c89a64d7ca961d2704413d56c",
       "version_major": 2,
       "version_minor": 0
      },
      "text/plain": [
       "Downloading (…)9e0ce2e6d8/vocab.txt:   0%|          | 0.00/232k [00:00<?, ?B/s]"
      ]
     },
     "metadata": {},
     "output_type": "display_data"
    },
    {
     "data": {
      "application/vnd.jupyter.widget-view+json": {
       "model_id": "4efcd4a67f6a46f59cf327640a3e160d",
       "version_major": 2,
       "version_minor": 0
      },
      "text/plain": [
       "Downloading (…)ce2e6d8/modules.json:   0%|          | 0.00/385 [00:00<?, ?B/s]"
      ]
     },
     "metadata": {},
     "output_type": "display_data"
    }
   ],
   "source": [
    "embedding_model = SentenceTransformer('thenlper/gte-small')"
   ]
  },
  {
   "cell_type": "code",
   "execution_count": 22,
   "metadata": {},
   "outputs": [],
   "source": [
    "# This creates a QDrant instance in memory\n",
    "database = QdrantClient(\":memory:\")"
   ]
  },
  {
   "cell_type": "code",
   "execution_count": 23,
   "metadata": {},
   "outputs": [
    {
     "data": {
      "text/plain": [
       "True"
      ]
     },
     "execution_count": 23,
     "metadata": {},
     "output_type": "execute_result"
    }
   ],
   "source": [
    "# Create a collection to store our documents\n",
    "database.recreate_collection(\n",
    "    collection_name=\"wikipedia\",\n",
    "    vectors_config=models.VectorParams(\n",
    "        size=embedding_model.get_sentence_embedding_dimension(),\n",
    "        distance=models.Distance.COSINE,\n",
    "    )\n",
    ")"
   ]
  },
  {
   "cell_type": "code",
   "execution_count": 24,
   "metadata": {},
   "outputs": [],
   "source": [
    "# Vectorize our documents and upload to the database\n",
    "database.upload_records(\n",
    "    collection_name=\"wikipedia\",\n",
    "    records=[\n",
    "        models.Record(\n",
    "            id=idx,\n",
    "            vector=embedding_model.encode(doc[\"description\"]),\n",
    "            payload=doc\n",
    "        ) for idx, doc in enumerate(documents)\n",
    "    ]\n",
    ")"
   ]
  },
  {
   "cell_type": "markdown",
   "metadata": {},
   "source": [
    "### Searching our DB\n",
    "\n",
    "Now that we have everything pushed to the DB, we can now run our search. We're going to now search for the same query from before."
   ]
  },
  {
   "cell_type": "code",
   "execution_count": 27,
   "metadata": {},
   "outputs": [],
   "source": [
    "prompt = \"\"\"Who won the 2022 FIFA World Cup?\"\"\""
   ]
  },
  {
   "cell_type": "code",
   "execution_count": 29,
   "metadata": {},
   "outputs": [
    {
     "name": "stdout",
     "output_type": "stream",
     "text": [
      "2022 FIFA World Cup score: 0.9491587\n",
      "2026 FIFA World Cup score: 0.8985785\n",
      "2023 Rugby World Cup score: 0.87594485\n"
     ]
    }
   ],
   "source": [
    "hits = database.search(\n",
    "    collection_name=\"wikipedia\",\n",
    "    query_vector=embedding_model.encode(prompt),\n",
    "    limit=3 # Get the top 3 results\n",
    ")\n",
    "for hit in hits:\n",
    "  print(hit.payload['title'], \"score:\", hit.score)"
   ]
  },
  {
   "cell_type": "code",
   "execution_count": 30,
   "metadata": {},
   "outputs": [
    {
     "name": "stdout",
     "output_type": "stream",
     "text": [
      "----------PROMPT----------\n",
      "Who won the 2022 FIFA World Cup?\n",
      "Context:\n",
      "The 2022 FIFA World Cup was the 22nd FIFA World Cup, the world championship for national football teams organized by FIFA. It took place in Qatar from 20 November to 18 December 2022, after the country was awarded the hosting rights in 2010. It was the first World Cup to be held in the Arab world and Muslim world, and the second held entirely in Asia after the 2002 tournament in South Korea and Japan.[A]\n",
      "\n",
      "This tournament was the last with 32 participating teams, with the number of teams being increased to 48 for the 2026 edition. To avoid the extremes of Qatar's hot climate,[B] the event was held during November and December.[C] It was held over a reduced time frame of 29 days with 64 matches played in eight venues across five cities. Qatar entered the event—their first World Cup—automatically as the host's national team, alongside 31 teams determined by the qualification process.\n",
      "    \n",
      "Argentina were crowned the champions after winning the final against the title holder France 4–2 on penalties following a 3–3 draw after extra time. It was Argentina's third title and their first since 1986, as well being the first nation from outside of Europe to win the tournament since 2002. French player Kylian Mbappé became the first player to score a hat-trick in a World Cup final since Geoff Hurst in the 1966 final and won the Golden Boot as he scored the most goals (eight) during the tournament. Argentine captain Lionel Messi was voted the tournament's best player, winning the Golden Ball. The tournament has been considered exceptionally poetic as the capstone of his career, for some commentators fulfilling a previously unmet criterion to be regarded the greatest player of all time.[4] Teammates Emiliano Martínez and Enzo Fernández won the Golden Glove, awarded to the tournament's best goalkeeper; and the Young Player Award, awarded to the tournament's best young player, respectively. With 172 goals, the tournament set a record for the highest number of goals scored in the 32-team format, with every participating team scoring at least one goal.\n",
      "    \n",
      "The choice to host the World Cup in Qatar attracted significant criticism, with concerns raised over the country's treatment of migrant workers, women and members of the LGBT community, as well as Qatar's climate, lack of a strong football culture, scheduling changes, and allegations of bribery for hosting rights and wider FIFA corruption.[D]\n",
      "---------RESPONSE---------\n",
      "Argentina won the 2022 FIFA World Cup.\n"
     ]
    }
   ],
   "source": [
    "prompt += f\"\"\"\\nContext:\\n{hits[0].payload[\"description\"]}\"\"\"\n",
    "\n",
    "print(\"----------PROMPT----------\")\n",
    "print(prompt)\n",
    "print(\"---------RESPONSE---------\")\n",
    "result = llm_call(model=\"gpt-4\", prompt=prompt, parameters={\"temperature\": 0.0})\n",
    "print(result)"
   ]
  },
  {
   "cell_type": "markdown",
   "metadata": {},
   "source": [
    "And there we have it! We've searched through a bunch of documents, retrieved the right one, added it as context to the prompt and passed it to the LLM!\n",
    "\n",
    "This is just an introductory example to RAG and vector DBs. Stay tuned for more sessions on taking this further!\n",
    "\n",
    "If you'd like to get started right now, QDrant has a whole bunch of [examples](https://github.com/qdrant/examples/) for you to go through. We suggest starting with this [one](https://github.com/qdrant/examples/blob/master/rag-openai-qdrant/rag-openai-qdrant.ipynb)!"
   ]
  }
 ],
 "metadata": {
  "kernelspec": {
   "display_name": "genai-bootcamp",
   "language": "python",
   "name": "python3"
  },
  "language_info": {
   "codemirror_mode": {
    "name": "ipython",
    "version": 3
   },
   "file_extension": ".py",
   "mimetype": "text/x-python",
   "name": "python",
   "nbconvert_exporter": "python",
   "pygments_lexer": "ipython3",
   "version": "3.10.11"
  },
  "orig_nbformat": 4
 },
 "nbformat": 4,
 "nbformat_minor": 2
}
