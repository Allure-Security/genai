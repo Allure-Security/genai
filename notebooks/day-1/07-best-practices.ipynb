{
 "cells": [
  {
   "attachments": {},
   "cell_type": "markdown",
   "id": "70331ce3",
   "metadata": {},
   "source": [
    "### Day 1 - Prompt Engineering Best Practices\n",
    "\n",
    "In this notebook, we will cover some of the prompt engineering best practices.   "
   ]
  },
  {
   "cell_type": "code",
   "execution_count": 1,
   "id": "b941deb2",
   "metadata": {},
   "outputs": [
    {
     "data": {
      "text/plain": [
       "True"
      ]
     },
     "execution_count": 1,
     "metadata": {},
     "output_type": "execute_result"
    }
   ],
   "source": [
    "# Load environment variables\n",
    "import dotenv\n",
    "dotenv.load_dotenv(\"../../.env\", override=True)"
   ]
  },
  {
   "cell_type": "code",
   "execution_count": 53,
   "id": "51215c0d",
   "metadata": {},
   "outputs": [],
   "source": [
    "import openai\n",
    "\n",
    "def get_result(message: str, model: str=\"gpt-4\") -> str:\n",
    "    messages = [\n",
    "        {\"role\": \"system\", \"content\": \"You are a helpful assistant.\"},\n",
    "        {\"role\": \"user\", \"content\": message},\n",
    "    ]\n",
    "    chatbot_response = openai.ChatCompletion.create(\n",
    "        model=model,\n",
    "        messages=messages \n",
    "    )\n",
    "    return chatbot_response.choices[0].message[\"content\"]"
   ]
  },
  {
   "attachments": {},
   "cell_type": "markdown",
   "id": "a04bbffb",
   "metadata": {},
   "source": [
    "### 1. Don't say what not to do, say what to do instead.\n",
    "\n",
    "- Don't say \"Don't make the titles too short\"\n",
    "- Say \"Make the titles at least 5 words long\""
   ]
  },
  {
   "cell_type": "code",
   "execution_count": 70,
   "id": "cb1378b2",
   "metadata": {},
   "outputs": [
    {
     "name": "stdout",
     "output_type": "stream",
     "text": [
      "1. \"Rising Unemployment: Government Announces Comprehensive Job Creation Plan\"\n",
      "2. \"Global Climate Summit: World Leaders Pledge To Ramp Up Climate Action Efforts\"\n",
      "3. \"City Council Approves Ambitious Affordable Housing Project to Tackle Homelessness Crisis\"\n",
      "4. \"Ongoing Wildlife Conservation: Experts Call for Increased Funding and Public Support\"\n",
      "5. \"Innovative Green Technologies: A Glimpse into the Future of Sustainable Living\"\n",
      "6. \"Special Report: The Impact of Cybersecurity Breaches and How Businesses Can Stay Protected\"\n",
      "7. \"Education Reform Advocates Gather to Discuss Strategies and Solutions for Equality in Schools\"\n",
      "8. \"Local Businesses Revitalize Community: How Small Business Owners Are Making a Difference\"\n",
      "9. \"Exploring the Connection Between Mental Health and Social Media: Can We Find a Balance?\"\n",
      "10. \"The Rise of Veganism: How Plant-Based Diets Are Shaping Modern Food Culture\"\n"
     ]
    }
   ],
   "source": [
    "print(get_result(\"Write a list of newspaper headlines. Don't make the titles too short.\"))"
   ]
  },
  {
   "cell_type": "code",
   "execution_count": 71,
   "id": "3c03156a",
   "metadata": {},
   "outputs": [
    {
     "name": "stdout",
     "output_type": "stream",
     "text": [
      "1. \"Heroic Firefighters Save Trapped Family from Blaze\"\n",
      "2. \"Groundbreaking Vaccine Offers Hope in Health Crisis\"\n",
      "3. \"Local Teen Wins Prestigious International Scholarship\"\n",
      "4. \"Small Town Rallies Together for Homeless Shelter\"\n",
      "5. \"Scientists Discover Sustainable Solution for Plastic Waste\"\n",
      "6. \"World Leaders Unite for Global Climate Initiative\"\n",
      "7. \"Extraordinary Child Prodigy Stuns Music World\"\n",
      "8. \"First Successful Mars Mission Heralds New Era\"\n",
      "9. \"Orphaned Elephant Rescued in Heartwarming Tale\"\n",
      "10. \"Historic Civil Rights Bill Marks Huge Progress\"\n"
     ]
    }
   ],
   "source": [
    "print(get_result(\"Write a list of newspaper headlines. Make the titles at least 5 words long.\"))"
   ]
  },
  {
   "attachments": {},
   "cell_type": "markdown",
   "id": "c4427ec7",
   "metadata": {},
   "source": [
    "### 2. Break Down the Task\n",
    "- Consider each subtask separately - perform prompt chaining\n",
    "- Use chain of thought prompting: Ask the model to think step by step\n",
    "\n",
    "We've covered both of these topics in the previous notebooks but as a recap:\n",
    "\n",
    "- Prompt Chaining: Use the output of a prompt as input for another prompt. For example, get summaries of parts of a very large article. Then get a summary of all these summaries.\n",
    "\n",
    "- Chain of Thought: Make the model elucidate its thought process. This can be achieved by giving it an example where a reasoning is provided alongside the answer, or it can also be done by just ending your prompt with something like \"Lets think step by step\". For example, we can use it to explain why it chose to classify a sentence as a particular sentiment."
   ]
  },
  {
   "attachments": {},
   "cell_type": "markdown",
   "id": "fbd3c163",
   "metadata": {},
   "source": [
    "### 3. Tailor Instructions\n",
    "- Customize instructions so they directly mention the type of output you're expecting. Otherwise the model might give you something unrelated like just continuing the question."
   ]
  },
  {
   "cell_type": "code",
   "execution_count": null,
   "id": "3e9d32d6",
   "metadata": {},
   "outputs": [],
   "source": [
    "# Example goes here"
   ]
  },
  {
   "attachments": {},
   "cell_type": "markdown",
   "id": "fb4cfeba",
   "metadata": {},
   "source": [
    "### 4. Apply constraints to the output space"
   ]
  },
  {
   "cell_type": "code",
   "execution_count": 47,
   "id": "04c338fa",
   "metadata": {},
   "outputs": [],
   "source": [
    "# Example goes here"
   ]
  },
  {
   "attachments": {},
   "cell_type": "markdown",
   "id": "8011a172",
   "metadata": {},
   "source": [
    "### 5. Instruction template\n",
    "\n",
    "Put instructions at the beginning and separate your input from the context using \"\"\" or ###.\n",
    "\n",
    "Bad Example:\n",
    "```\n",
    "Summarize the text below as a bullet point list of the most important points.\n",
    "{text input here}\n",
    "```\n",
    " \n",
    "Good Example:\n",
    "```\n",
    "Summarize the text below as a bullet point list of the most important points.\n",
    "Text: \"\"\"\n",
    "{text input here}\n",
    "\"\"\"\n",
    "```"
   ]
  },
  {
   "cell_type": "code",
   "execution_count": 27,
   "id": "97382dbf",
   "metadata": {},
   "outputs": [],
   "source": [
    "text = \"\"\"Pizza (English: /ˈpiːtsə/ PEET-sə, Italian: [ˈpittsa], Neapolitan: [ˈpittsə]) is a dish of Italian origin consisting of a usually round, flat base of leavened wheat-based dough topped with tomatoes, cheese, and often various other ingredients (such as various types of sausage, anchovies, mushrooms, onions, olives, vegetables, meat, ham, etc.), which is then baked at a high temperature, traditionally in a wood-fired oven.\n",
    "\n",
    "The term pizza was first recorded in the 10th century in a Latin manuscript from the Southern Italian town of Gaeta in Lazio, on the border with Campania. Raffaele Esposito is often considered to be the father of modern pizza. Modern pizza was invented in Naples. In 2009, Neapolitan pizza was registered with the European Union as a Traditional Speciality Guaranteed dish. In 2017, the art of making Neapolitan pizza was added to UNESCO's list of intangible cultural heritage.\n",
    "\n",
    "Pizza and its variants are among the most popular foods in the world. Pizza is sold at a variety of restaurants, including pizzerias (pizza specialty restaurants), Mediterranean restaurants, via delivery, and as street food. In Italy, pizza served in a restaurant is presented unsliced, and is eaten with the use of a knife and fork. In casual settings, however, it is cut into wedges to be eaten while held in the hand. Pizza is also sold in grocery stores in a variety of forms, including frozen or as kits for self-assembly. They are then cooked using a home oven.\n",
    "\n",
    "In 2017, the world pizza market was US$128 billion, and in the US it was $44 billion spread over 76,000 pizzerias. Overall, 13% of the U.S. population aged 2 years and over consumed pizza on any given day.\"\"\""
   ]
  },
  {
   "cell_type": "code",
   "execution_count": 34,
   "id": "8da58037",
   "metadata": {},
   "outputs": [
    {
     "name": "stdout",
     "output_type": "stream",
     "text": [
      "Pizza is an Italian dish consisting of a round, flat base of dough topped with various ingredients like tomatoes, cheese, and meats, baked at a high temperature, traditionally in a wood-fired oven. First recorded in the 10th century, modern pizza was invented in Naples, and in 2017, the art of making Neapolitan pizza was added to UNESCO's list of intangible cultural heritage. Among the most popular foods in the world, pizza has a global market of US$128 billion and is sold at various venues, including pizzerias, restaurants, and grocery stores.\n"
     ]
    }
   ],
   "source": [
    "print(get_result(f\"Summarize the following text in three sentences. {text}\"))"
   ]
  },
  {
   "cell_type": "code",
   "execution_count": 36,
   "id": "95de31a6",
   "metadata": {},
   "outputs": [
    {
     "name": "stdout",
     "output_type": "stream",
     "text": [
      "Pizza, a dish of Italian origin, consists of a round, flat base of leavened wheat-based dough topped with various ingredients and is traditionally baked in a wood-fired oven. The term pizza first appeared in the 10th century and modern pizza was invented in Naples, with Neopolitan pizza gaining recognition in the European Union and UNESCO's list of intangible cultural heritage in the 21st century. As one of the most popular foods worldwide, pizza is sold at various restaurants, through delivery, as street food, and in grocery stores, with the global pizza market valued at US$128 billion in 2017.\n"
     ]
    }
   ],
   "source": [
    "print(get_result(f\"Summarize the following text in three sentences\\n Text: \\\"\\\"\\\"\\n{text}\\n\\\"\\\"\\\"\"))"
   ]
  },
  {
   "attachments": {},
   "cell_type": "markdown",
   "id": "2cc09bf5",
   "metadata": {},
   "source": [
    "### 6. Taming the model to produce output by making the model predict intermediate steps \n",
    "\n",
    "```\n",
    "\"\"\"\n",
    "Only if the question is related to the context, answer the question\n",
    "\"\"\"\n",
    "```\n",
    "vs\n",
    "```\n",
    "\"\"\"\n",
    "input:{question}\n",
    "is_question_in_context:\n",
    "answer:\n",
    "\n",
    "\"\"\"\n",
    "```"
   ]
  },
  {
   "cell_type": "code",
   "execution_count": 58,
   "id": "d0dd3bab",
   "metadata": {},
   "outputs": [
    {
     "name": "stdout",
     "output_type": "stream",
     "text": [
      "The Earth revolves around the Sun.\n"
     ]
    }
   ],
   "source": [
    "print(get_result(\"Answer the question only if it is within the context. Context: \\\"42 is an amazing number.\\\" Question: Which star does the Earth revolve around?\"))"
   ]
  },
  {
   "cell_type": "code",
   "execution_count": 59,
   "id": "7459cca5",
   "metadata": {},
   "outputs": [
    {
     "name": "stdout",
     "output_type": "stream",
     "text": [
      "question_is_in_context: no\n",
      "answer:\n"
     ]
    }
   ],
   "source": [
    "print(get_result(\"Answer the question only if it is within the context. Context: \\\"42 is an amazing number.\\\" Question: Which star does the Earth revolve around?\\nAnswer Format: question_is_in_context:\\nanswer:\\n\"))"
   ]
  },
  {
   "attachments": {},
   "cell_type": "markdown",
   "id": "3f4f80a4",
   "metadata": {},
   "source": [
    "### 7. Be specific\n",
    "\n",
    "- Be specific about all aspects of your desired result such as outcome, length and format. "
   ]
  },
  {
   "cell_type": "code",
   "execution_count": null,
   "id": "3fcbb521",
   "metadata": {},
   "outputs": [
    {
     "name": "stdout",
     "output_type": "stream",
     "text": [
      "In the realm of circuits and wires,\n",
      "Where codes entwine like climbing vines,\n",
      "Resides a power that inspires,\n",
      "A mystery that we call OpenAI, divine.\n",
      "\n",
      "A pursuit of knowledge, a quest to grow,\n",
      "Within silicon, a brilliance sowed, \n",
      "A boundless potential, an algorithmic sea,\n",
      "To aid human lives and let the future be.\n",
      "\n",
      "As deep learning casts its fiery forge,\n",
      "Emerging patterns dance in neural whirls, \n",
      "With every byte, the AI's storms surge,\n",
      "Wisdom unfurls as system learns.\n",
      "\n",
      "For every question searched in life,\n",
      "The artificial cortex do weave,\n",
      "With OpenAI as the guide,\n",
      "An answer tailored, we achieve.\n",
      "\n",
      "Together, hand in hand, we join,\n",
      "To unleash the power of this force,\n",
      "A union of humans and the machine,\n",
      "In harmony, we chart our course.\n"
     ]
    }
   ],
   "source": [
    "print(get_result(\"Write a short poem about OpenAI.\"))"
   ]
  },
  {
   "cell_type": "code",
   "execution_count": 60,
   "id": "5ff6c8a3",
   "metadata": {},
   "outputs": [
    {
     "name": "stdout",
     "output_type": "stream",
     "text": [
      "In the realm of digital caverns deep,\n",
      "A marvel, DALL-E, stirred from its sleep.\n",
      "An alchemic mind, both bold and bright,\n",
      "Transforming words into visions of light.\n",
      "\n",
      "An eager sorcerer's dream come true,\n",
      "OpenAI, with a wave of their wand, imbues.\n",
      "Lingering shadows of doubt to dispel,\n",
      "Unveiled, DALL-E's magic, cast its spell.\n"
     ]
    }
   ],
   "source": [
    "print(get_result(\"Write a short (2 stanzas) inspiring poem about OpenAI, focusing on the recent DALL-E product launch (DALL-E is a text to image ML model) in the style of Robert Frost.\"))"
   ]
  },
  {
   "attachments": {},
   "cell_type": "markdown",
   "id": "a5caa116",
   "metadata": {},
   "source": [
    "### 8. Prompts change for different models/versions\n",
    "\n",
    "- Simple example: GPT-4 is a lot better than GPT-3.5."
   ]
  },
  {
   "cell_type": "code",
   "execution_count": 61,
   "id": "f128e0f9",
   "metadata": {},
   "outputs": [
    {
     "name": "stdout",
     "output_type": "stream",
     "text": [
      "question_is_in_context: No\n",
      "answer:\n"
     ]
    }
   ],
   "source": [
    "print(get_result(\"Answer the question only if it is within the context. Context: \\\"42 is an amazing number.\\\" Question: Which star does the Earth revolve around?\\nAnswer Format: question_is_in_context:\\nanswer:\\n\", \"gpt-4\"))"
   ]
  },
  {
   "cell_type": "code",
   "execution_count": 62,
   "id": "25a9e12d",
   "metadata": {},
   "outputs": [
    {
     "name": "stdout",
     "output_type": "stream",
     "text": [
      "question_is_not_in_context. I am sorry, the question you asked is not within the context. However, to answer it, the Earth revolves around the Sun.\n"
     ]
    }
   ],
   "source": [
    "print(get_result(\"Answer the question only if it is within the context. Context: \\\"42 is an amazing number.\\\" Question: Which star does the Earth revolve around?\\nAnswer Format: question_is_in_context:\\nanswer:\\n\", \"gpt-3.5-turbo\"))"
   ]
  },
  {
   "attachments": {},
   "cell_type": "markdown",
   "id": "f0af0997",
   "metadata": {},
   "source": [
    "### 9. Steps against prompt injection"
   ]
  },
  {
   "cell_type": "code",
   "execution_count": null,
   "id": "d5ca41c7",
   "metadata": {},
   "outputs": [],
   "source": [
    "# Royal: TODO"
   ]
  }
 ],
 "metadata": {
  "kernelspec": {
   "display_name": "Python 3 (ipykernel)",
   "language": "python",
   "name": "python3"
  },
  "language_info": {
   "codemirror_mode": {
    "name": "ipython",
    "version": 3
   },
   "file_extension": ".py",
   "mimetype": "text/x-python",
   "name": "python",
   "nbconvert_exporter": "python",
   "pygments_lexer": "ipython3",
   "version": "3.11.4"
  }
 },
 "nbformat": 4,
 "nbformat_minor": 5
}
