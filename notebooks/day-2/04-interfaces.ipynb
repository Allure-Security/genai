{
 "cells": [
  {
   "attachments": {},
   "cell_type": "markdown",
   "metadata": {},
   "source": [
    "# Interfaces & GenAI Links\n",
    "\n",
    "## Links\n",
    "- Slides() # TODO UPDATE LINK\n",
    "- [StreamLit](https://streamlit.io/)\n",
    "  - [Examples](git@github.com:streamlit/streamlit.git)\n",
    "  - [Template](https://github.com/rodrigo-georgian/AI-interface-cookiecutter)\n",
    "- [Vercel AI Templates](https://vercel.com/templates/ai)"
   ]
  },
  {
   "attachments": {},
   "cell_type": "markdown",
   "metadata": {},
   "source": [
    "# Hello World Example\n",
    "```\n",
    "genai-bootcamp\n",
    "conda activate genai-bootcamp\n",
    "poetry install\n",
    "poetry run streamlit run src/genai_bootcamp/interfaces/helloworld.py\n",
    "```"
   ]
  },
  {
   "attachments": {},
   "cell_type": "markdown",
   "metadata": {},
   "source": [
    "# A/B Data Generation Example\n",
    "```\n",
    "poetry run streamlit run src/genai_bootcamp/interfaces/AB-datagen.py\n",
    "```"
   ]
  },
  {
   "cell_type": "markdown",
   "metadata": {},
   "source": [
    "# GenAI Interface Template\n",
    "We've created a template (cookiecutter) that you can use to get a full genai interface repo structure in under 10 seconds.\n",
    "\n",
    "Please [check it out here.](https://github.com/rodrigo-georgian/AI-interface-cookiecutter)\n",
    "\n",
    "Here is the [link to the demo of what you'll see](https://rodrigo-georgian-ai-interface-example-interfaceshome-rj9c7e.streamlit.app/) "
   ]
  }
 ],
 "metadata": {
  "kernelspec": {
   "display_name": "genai-bootcamp",
   "language": "python",
   "name": "python3"
  },
  "language_info": {
   "codemirror_mode": {
    "name": "ipython",
    "version": 3
   },
   "file_extension": ".py",
   "mimetype": "text/x-python",
   "name": "python",
   "nbconvert_exporter": "python",
   "pygments_lexer": "ipython3",
   "version": "3.10.11"
  },
  "orig_nbformat": 4
 },
 "nbformat": 4,
 "nbformat_minor": 2
}
