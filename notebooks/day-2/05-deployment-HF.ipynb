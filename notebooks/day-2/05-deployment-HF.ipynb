{
 "cells": [
  {
   "attachments": {},
   "cell_type": "markdown",
   "metadata": {},
   "source": [
    "# Deployment with Hugging Face\n",
    "\n",
    "The HuggingFace documentation on how to do this is very good.\n",
    "Simply [follow this](https://huggingface.co/docs/inference-endpoints/index)! "
   ]
  }
 ],
 "metadata": {
  "language_info": {
   "name": "python"
  },
  "orig_nbformat": 4
 },
 "nbformat": 4,
 "nbformat_minor": 2
}
