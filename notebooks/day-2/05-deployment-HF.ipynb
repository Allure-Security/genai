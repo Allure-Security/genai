{
 "cells": [
  {
   "attachments": {},
   "cell_type": "markdown",
   "metadata": {},
   "source": [
    "# Deployment with Hugging Face\n",
    "\n",
    "To deploy open-sourced models, simply [go here](https://ui.endpoints.huggingface.co/rodrigo-georgian/endpoints) and click on `+ New Endpoint` and follow the configuration instructions.\n",
    "\n",
    "For other needs, the [HuggingFace documentation](https://huggingface.co/docs/inference-endpoints/index) is very good!"
   ]
  },
  {
   "cell_type": "markdown",
   "metadata": {},
   "source": [
    "# Deployment with Streamlit (frontend)\n",
    "We use [streamlit cloud](https://streamlit.io/cloud). Checkout the [GenAI Interface Template](https://github.com/rodrigo-georgian/AI-interface-cookiecutter) for more info."
   ]
  },
  {
   "cell_type": "markdown",
   "metadata": {},
   "source": [
    "## Deployment with [Langserve](https://github.com/langchain-ai/langserve)\n",
    "\n",
    "- Lets you deploy langchain chains and agents as a REST API\n",
    "- Client that can be used to call into runnables deployed on a server"
   ]
  }
 ],
 "metadata": {
  "language_info": {
   "name": "python"
  },
  "orig_nbformat": 4
 },
 "nbformat": 4,
 "nbformat_minor": 2
}
