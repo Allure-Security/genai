{
  "cells": [
    {
      "cell_type": "markdown",
      "metadata": {},
      "source": [
        "# Building up to an agent\n",
        "LLM -> Chain -> Agent"
      ]
    },
    {
      "cell_type": "code",
      "execution_count": 1,
      "metadata": {},
      "outputs": [
        {
          "data": {
            "text/plain": [
              "True"
            ]
          },
          "execution_count": 1,
          "metadata": {},
          "output_type": "execute_result"
        }
      ],
      "source": [
        "%reload_ext autoreload\n",
        "%autoreload 2\n",
        "\n",
        "# Load environment variables\n",
        "import dotenv\n",
        "dotenv.load_dotenv(\"../../.env\", override=True)"
      ]
    },
    {
      "cell_type": "markdown",
      "metadata": {},
      "source": [
        "# Agents\n",
        "\n",
        "There are many types of agent that work in slightly different ways, but the main concepts behind an agent are:\n",
        "\n",
        "1. The agent has access to tools. Tools include instructions on how to use them and what they are useful for. A tool can be anything that could be used by using text.\n",
        "2. The agent has a task, usually this is just the prompt from the user.\n",
        "3. The agent has access to an LLM and a system prompt that tells it how to go about achieving its task given its tools\n",
        "4. The agent will attempt to break down its task according to its programming and iteratively take steps to achieve it. The agent will try to use the tools at its disposal when it makes sense and (usually) will eventually decide it is done and return a final output."
      ]
    },
    {
      "cell_type": "code",
      "execution_count": 40,
      "metadata": {},
      "outputs": [],
      "source": [
        "from langchain.agents.agent_toolkits import create_python_agent\n",
        "from langchain.tools.python.tool import PythonREPLTool\n",
        "from langchain.python import PythonREPL\n",
        "from langchain.llms.openai import OpenAI\n",
        "from langchain.agents.agent_types import AgentType\n",
        "from langchain.chat_models import ChatOpenAI\n",
        "from pandasai import SmartDataframe\n",
        "import pandas as pd\n",
        "from langchain.memory import ConversationBufferMemory\n",
        "from langchain.tools import BaseTool, StructuredTool, Tool, tool\n",
        "from langchain.tools import DuckDuckGoSearchRun\n",
        "\n",
        "from pydantic import BaseModel, Field\n",
        "\n",
        "\n",
        "llm = ChatOpenAI(\n",
        "    model_name='gpt-3.5-turbo',\n",
        "    temperature=0,\n",
        ")\n",
        "\n",
        "# Smart Dataframe Tool\n",
        "class FaultTolerantSmartDataframe:\n",
        "    def __init__(self, df, config):\n",
        "        self.sdf = SmartDataframe(df, config=config)\n",
        "    \n",
        "    def __call__(self, prompt):\n",
        "        try:\n",
        "            return self.sdf.chat(prompt)\n",
        "        except Exception as e:\n",
        "            return f'Error: {e}'\n",
        "        \n",
        "\n",
        "df = pd.read_csv('../extra_resources/candy-data.csv')\n",
        "sdf = FaultTolerantSmartDataframe(df, config={\"llm\": llm})\n",
        "    \n",
        "candy_data_tool = Tool.from_function(\n",
        "    func=sdf,\n",
        "    name=\"Candy Dataset\",\n",
        "    description=\"Useful to get general information about candies, their classification, price, price and rating. You can ask it questions in natural language and it will answer back.\",\n",
        "    # args_schema=CodeSuggestionsInput\n",
        ")\n",
        "\n",
        "# Search tool\n",
        "search = DuckDuckGoSearchRun()\n",
        "\n",
        "# Init agent\n",
        "from langchain.agents import initialize_agent\n",
        "\n",
        "model = ChatOpenAI(temperature=0)\n",
        "tools = [candy_data_tool, search]\n",
        "agent = initialize_agent(tools, llm, agent=AgentType.ZERO_SHOT_REACT_DESCRIPTION, verbose=True, handle_parsing_errors=True)\n"
      ]
    },
    {
      "cell_type": "code",
      "execution_count": 46,
      "metadata": {},
      "outputs": [
        {
          "name": "stdout",
          "output_type": "stream",
          "text": [
            "\n",
            "\n",
            "\u001b[1m> Entering new AgentExecutor chain...\u001b[0m\n",
            "\u001b[32;1m\u001b[1;3mFirst, I need to use the Candy Dataset to find 3 healthy candies with the lowest price. Then, I can search online to find the currently cheapest candy among the three selected.\n",
            "Action: Candy Dataset\n",
            "Action Input: Find 3 healthy candies with the lowest price\u001b[0m\n",
            "Observation: \u001b[36;1m\u001b[1;3m          competitorname  chocolate  fruity  caramel  peanutyalmondy  nougat  \\\n",
            "76  Tootsie Roll Midgies          1       0        0               0       0   \n",
            "48          Pixie Sticks          0       0        0               0       0   \n",
            "15           Fruit Chews          0       1        0               0       0   \n",
            "\n",
            "    crispedricewafer  hard  bar  pluribus  sugarpercent  pricepercent  \\\n",
            "76                 0     0    0         1         0.174         0.011   \n",
            "48                 0     0    0         1         0.093         0.023   \n",
            "15                 0     0    0         1         0.127         0.034   \n",
            "\n",
            "    winpercent  \n",
            "76   45.736748  \n",
            "48   37.722336  \n",
            "15   43.088924  \u001b[0m\n",
            "Thought:\u001b[32;1m\u001b[1;3mNow that I have the names of the three healthy candies with the lowest price, I can search online to find the currently cheapest candy among them.\n",
            "Action: duckduckgo_search\n",
            "Action Input: Search for the current prices of Tootsie Roll Midgies, Pixie Sticks, and Fruit Chews\u001b[0m\n",
            "Observation: \u001b[33;1m\u001b[1;3mSnack Food Candy Tootsie Roll® Midgees® - 15 oz Model Number: 812 Menards ® SKU: 5752737 Final Price: $3.54 You Save $0.44 with Mail-In Rebate ADD TO CART Tootsie Roll® Midgees® - 15 oz Model Number: 812 Menards ® SKU: 5752737 Final Price $ 3 54 each You Save $0.44 with Mail-In Rebate ADD TO CART Delightfully chewy 360ct bag Items in basket: 0 Subtotal: $ 0.00 Tootsie Roll Midgets 360ct bag $10.25 Tootsie Roll Midgets Cigars Buy 1 Get 1 Free Cigars Domestic Cigars Little Filtered Cigars Pipe Tobacco Welcome to Advantage Services Order by phone Monday-Friday 10am-5pm 704-970-8905 Cigars -- Cigar Wraps Hemp Wraps Pipe Tobacco Little Cigars Snacks/Candy New Quantity: 2 available / 2 sold Price: US $12.90 Buy It Now Add to cart Add to Watchlist Ships from United States Free shipping and returns Shipping: FreeStandard Shipping. See details Located in: Irving, Texas, United States Delivery: Estimated between Thu, Apr 6 and Tue, Apr 11 23917 Tootsie Roll products range in price from $3.99 to $42.46, and the average price of all the products is about $18.44. It's affordable for most consumers, and you can feel free to pick your favorite products. We found that most of the Tootsie Roll products are manufactured by TOOTSIE ROLL INDUSTRIES, Candy Crate, and Toosie Roll. Shop Tootsie Roll Chocolatey Chewy Midgees Bag - 15 Oz from Shaw's. Browse our wide selection of Candy for Delivery or Drive Up & Go to pick up at the store!\u001b[0m\n",
            "Thought:\u001b[32;1m\u001b[1;3mI now know the final answer. The currently cheapest candy among the three healthy candies with the lowest price is Pixie Sticks.\u001b[0m\n",
            "Observation: Invalid Format: Missing 'Action:' after 'Thought:\n",
            "Thought:\u001b[32;1m\u001b[1;3mI need to provide the final answer to the original input question.\n",
            "Final Answer: The currently cheapest candy among the three healthy candies with the lowest price is Pixie Sticks.\u001b[0m\n",
            "\n",
            "\u001b[1m> Finished chain.\u001b[0m\n"
          ]
        },
        {
          "data": {
            "text/plain": [
              "'The currently cheapest candy among the three healthy candies with the lowest price is Pixie Sticks.'"
            ]
          },
          "execution_count": 46,
          "metadata": {},
          "output_type": "execute_result"
        }
      ],
      "source": [
        "agent.run('I want to buy a healthy can that is also cheap. Use the candy dataset to select 3 healthy candies with the lowest price. Then search these online and tell me which is the currently cheapest candy of the three. Think step by step.')"
      ]
    },
    {
      "cell_type": "markdown",
      "metadata": {},
      "source": [
        "# [Toolkits](https://python.langchain.com/docs/modules/agents/toolkits/)\n",
        "### [Document Comparisons](https://python.langchain.com/docs/integrations/toolkits/document_comparison_toolkit)\n",
        "- Tool that wraps full documents. This is an easy way to do document QA on a short list of documents.\n",
        "- Includes PDF reader.\n",
        "### [Vectorstore](https://python.langchain.com/docs/integrations/toolkits/vectorstore)\n",
        "- Interface with arbitrary vector store\n",
        "### [JSON](https://python.langchain.com/docs/integrations/toolkits/json)\n",
        "- Tool for interacting with large JSON/dict objects.\n",
        "### [OpenAPI](https://python.langchain.com/docs/integrations/toolkits/openapi)\n",
        "- Tool to consume arbitrary APIs, here APIs conformant to the OpenAPI/Swagger specification.\n",
        "### [Natural Language APIs](https://python.langchain.com/docs/integrations/toolkits/openapi_nla)\n",
        "- efficiently plan and combine calls across endpoints using natural language as an intermediary\n",
        "### Specific Services\n",
        "- [Github](https://python.langchain.com/docs/integrations/toolkits/github)\n",
        "- [Office 365](https://python.langchain.com/docs/integrations/toolkits/office365)\n",
        "- [ClickUp - (WIP / georgian made.)](https://github.com/langchain-ai/langchain/pull/10662)"
      ]
    },
    {
      "cell_type": "markdown",
      "metadata": {},
      "source": []
    },
    {
      "cell_type": "code",
      "execution_count": 3,
      "metadata": {},
      "outputs": [
        {
          "name": "stdout",
          "output_type": "stream",
          "text": [
            " Here is how I would explain cats to 8th grade students:\n",
            "\n",
            "Cats are small, furry mammals that are kept as pets by many people. There are over 70 different breeds of domestic cats. Some common cat breeds include Siamese, Persian, Maine Coon, and tabby cats. \n",
            "\n",
            "Cats have several unique features that help them survive as predators:\n",
            "\n",
            "- Retractable claws - Cats can extend and retract their sharp claws to help them climb, hunt prey, and defend themselves. Their claws are attached to the last bone of each toe.\n",
            "\n",
            "- Whiskers - The long, stiff hairs on a cat's face are called whiskers. They help cats detect objects and navigate in the dark. \n",
            "\n",
            "- Excellent night vision - Cats can see well in dim light thanks to extra reflecting cells in their eyes called the tapetum lucidum. This layer helps them hunt at night.\n",
            "\n",
            "- Flexible bodies - Cats are extremely agile. They can twist, jump, climb, and squeeze through very small spaces thanks to their flexible spines. This helps them climb trees and hunt prey.\n",
            "\n",
            "- Jacobson's organ - Cats have an extra smelling ability thanks to the Jacobson's organ in the roof of their mouth. It detects pheromones and helps trigger behaviors like mating.\n",
            "\n",
            "Cats sleep 12-16 hours per day on average. They are crepuscular, which\n"
          ]
        }
      ],
      "source": [
        "import boto3\n",
        "import json\n",
        "bedrock = boto3.client(service_name='bedrock-runtime')\n",
        "\n",
        "body = json.dumps({\n",
        "    \"prompt\": \"\\n\\nHuman:explain cats to 8th graders\\n\\nAssistant:\",\n",
        "    \"max_tokens_to_sample\": 300,\n",
        "    \"temperature\": 0.1,\n",
        "    \"top_p\": 0.9,\n",
        "})\n",
        "\n",
        "modelId = 'anthropic.claude-v2'\n",
        "accept = 'application/json'\n",
        "contentType = 'application/json'\n",
        "\n",
        "response = bedrock.invoke_model(body=body, modelId=modelId, accept=accept, contentType=contentType)\n",
        "\n",
        "response_body = json.loads(response.get('body').read())\n",
        "print(response_body.get('completion'))"
      ]
    },
    {
      "cell_type": "markdown",
      "metadata": {},
      "source": [
        "# Hot Off the Press 🔥\n",
        "** WARNING: There will be bugs **\n",
        "\n",
        "## Experimentation - [Langsmith](https://www.langchain.com/langsmith)\n",
        "\n",
        "- Register datasets\n",
        "- Log chain and agent tracing\n",
        "- Keep track of latency and other metrics"
      ]
    }
  ],
  "metadata": {
    "kernelspec": {
      "display_name": "genai-bootcamp",
      "language": "python",
      "name": "python3"
    },
    "language_info": {
      "codemirror_mode": {
        "name": "ipython",
        "version": 3
      },
      "file_extension": ".py",
      "mimetype": "text/x-python",
      "name": "python",
      "nbconvert_exporter": "python",
      "pygments_lexer": "ipython3",
      "version": "3.11.6"
    },
    "orig_nbformat": 4
  },
  "nbformat": 4,
  "nbformat_minor": 2
}
