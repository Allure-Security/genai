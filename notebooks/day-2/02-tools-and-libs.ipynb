{
 "cells": [
  {
   "cell_type": "markdown",
   "metadata": {},
   "source": [
    "# Day 2 - Tools and Libraries"
   ]
  },
  {
   "cell_type": "code",
   "execution_count": 1,
   "metadata": {},
   "outputs": [
    {
     "data": {
      "text/plain": [
       "False"
      ]
     },
     "execution_count": 1,
     "metadata": {},
     "output_type": "execute_result"
    }
   ],
   "source": [
    "%reload_ext autoreload\n",
    "%autoreload 2\n",
    "\n",
    "# Load environment variables\n",
    "import dotenv\n",
    "dotenv.load_dotenv('../.env', override=True)"
   ]
  },
  {
   "attachments": {},
   "cell_type": "markdown",
   "metadata": {},
   "source": [
    "# [Langchain](https://python.langchain.com/en/latest/index.html)"
   ]
  },
  {
   "cell_type": "markdown",
   "metadata": {},
   "source": [
    "LangChain is a framework for developing applications powered by language models. \n",
    "The LangChain framework is designed around facilitating applications that are:\n",
    "- Data-aware: connect a language model to other sources of data\n",
    "- Agentic: allow a language model to interact with its environment\n",
    "\n",
    "\n",
    "## Useful Docs\n",
    "- [Agents](https://python.langchain.com/docs/modules/agents/)\n",
    "- [Retrieval](https://python.langchain.com/docs/modules/data_connection/)\n",
    "- [Memory](https://python.langchain.com/docs/modules/memory/)\n",
    "\n",
    "## *Covered in Bootcamp 1.0*\n",
    "If you are not familiar with these concepts at all, check them here:\n",
    "- [Prompt Templates](https://github.com/georgian-io/genai-bootcamp/blob/main/archive/2023_june/notebooks/day-2/01-langchain.ipynb)\n",
    "- [Chains](https://github.com/georgian-io/genai-bootcamp/blob/main/archive/2023_june/notebooks/day-2/01-langchain.ipynb)\n",
    "- [Intro to Agents](https://github.com/georgian-io/genai-bootcamp/blob/main/archive/2023_june/notebooks/day-2/01-langchain.ipynb)\n"
   ]
  },
  {
   "attachments": {},
   "cell_type": "markdown",
   "metadata": {},
   "source": [
    "## Defining an LLM\n",
    "\n",
    "On day 1 we showed you several examples of how to do the same task using different APIs.\n",
    "\n",
    "Langchain makes switching between these backends easier"
   ]
  },
  {
   "cell_type": "code",
   "execution_count": 7,
   "metadata": {},
   "outputs": [
    {
     "name": "stdout",
     "output_type": "stream",
     "text": [
      "\n",
      "--- Testing OpenAI GPT 3.5 ---\n",
      "('I am an AI language model developed by OpenAI. I am designed to assist with '\n",
      " 'answering questions and engaging in conversations on a wide range of topics.')\n",
      "\n",
      "--- Testing OpenAI GPT 4 ---\n",
      "('I am an artificial intelligence developed by OpenAI, known as GPT-3. I am '\n",
      " 'designed to assist with information and tasks, and to engage in conversation '\n",
      " 'with users.')\n",
      "\n",
      "--- Testing Llama 2 - 7B ---\n",
      "(\" Hello! I'm LLaMA, an AI assistant developed by Meta AI that can understand \"\n",
      " 'and respond to human input in a conversational manner. My primary function '\n",
      " \"is to assist and provide helpful responses to users' inquiries, much like a \"\n",
      " \"chatbot or virtual assistant. I'm here to help you with any questions or \"\n",
      " \"topics you'd like to discuss, so feel free to ask me anything!\")\n",
      "\n",
      "--- Testing Llama 2 - 70B ---\n",
      "(\" Hello! My name is LLaMA, I'm a large language model trained by a team of \"\n",
      " 'researcher at Meta AI. My primary function is to understand and respond to '\n",
      " 'human input in a helpful and engaging manner. I can answer questions, '\n",
      " 'provide information, and even generate creative content such as stories or '\n",
      " 'dialogue. Is there anything specific you would like to know or discuss?')\n",
      "\n",
      "--- Testing Google PaLM ---\n",
      "' I am a large language model, trained by Google.\\n'\n",
      "\n",
      "--- Testing Anthropic Claude 2 ---\n",
      "\" I'm Claude, an AI assistant created by Anthropic.\"\n"
     ]
    }
   ],
   "source": [
    "import os\n",
    "from pprint import pprint\n",
    "from langchain.llms import BaseLLM\n",
    "from langchain.chat_models import ChatOpenAI\n",
    "from langchain.schema import HumanMessage\n",
    "from langchain.chat_models import ChatAnyscale\n",
    "from langchain.chat_models.vertexai import ChatVertexAI\n",
    "from langchain.chat_models.bedrock import BedrockChat\n",
    "    \n",
    "llms = {}\n",
    "\n",
    "# OpenAI\n",
    "llms['OpenAI GPT 3.5'] = ChatOpenAI(\n",
    "    model_name='gpt-3.5-turbo',\n",
    "    temperature=0,\n",
    ")\n",
    "\n",
    "llms['OpenAI GPT 4'] = ChatOpenAI(\n",
    "    model_name='gpt-4',\n",
    "    temperature=0,\n",
    ")\n",
    "\n",
    "# LLaMa 2\n",
    "llms['Llama 2 - 7B'] = ChatAnyscale(\n",
    "    anyscale_api_key=os.getenv('ANYSCALE_ENDPOINT_TOKEN'),\n",
    "    temperature=0, model_name=\"meta-llama/Llama-2-7b-chat-hf\", \n",
    "    streaming=True\n",
    ")\n",
    "\n",
    "llms['Llama 2 - 70B'] = ChatAnyscale(\n",
    "    anyscale_api_key=os.getenv('ANYSCALE_ENDPOINT_TOKEN'),\n",
    "    temperature=0, model_name=\"meta-llama/Llama-2-70b-chat-hf\", \n",
    "    streaming=True\n",
    ")\n",
    "\n",
    "# Google\n",
    "llms['Google PaLM'] = ChatVertexAI()\n",
    "\n",
    "# Claude (TBD)\n",
    "llms['Anthropic Claude 2'] = BedrockChat(model_id='anthropic.claude-v2')\n",
    "\n",
    "\n",
    "def test_llm(llm: BaseLLM):\n",
    "    pprint(llm.predict_messages([HumanMessage(content=\"Who are you?\")]).content)\n",
    "\n",
    "for key, llm in llms.items():\n",
    "    print(f\"\\n--- Testing {key} ---\")\n",
    "    test_llm(llm)\n"
   ]
  },
  {
   "cell_type": "markdown",
   "metadata": {},
   "source": [
    "### Examples of projects using Langchain\n",
    "- [superagent](https://github.com/homanp/superagent/tree/main)\n",
    "- [gpt-engineer](https://github.com/AntonOsika/gpt-engineer)"
   ]
  },
  {
   "cell_type": "markdown",
   "metadata": {},
   "source": [
    "# [Pandas AI](https://docs.pandas-ai.com/en/latest/)"
   ]
  },
  {
   "cell_type": "markdown",
   "metadata": {},
   "source": []
  },
  {
   "cell_type": "code",
   "execution_count": 2,
   "metadata": {},
   "outputs": [],
   "source": [
    "from pandasai import SmartDataframe\n",
    "import pandas as pd"
   ]
  },
  {
   "cell_type": "code",
   "execution_count": 3,
   "metadata": {},
   "outputs": [],
   "source": [
    "df = pd.read_csv('../extra_resources/candy-data.csv')\n",
    "sdf = SmartDataframe(df, config={\"llm\": llms['OpenAI GPT 3.5']})\n"
   ]
  },
  {
   "cell_type": "code",
   "execution_count": 4,
   "metadata": {},
   "outputs": [
    {
     "data": {
      "text/plain": [
       "'The healthiest candy is One dime with a sugar percent of 0.011.'"
      ]
     },
     "execution_count": 4,
     "metadata": {},
     "output_type": "execute_result"
    }
   ],
   "source": [
    "sdf.chat('Which is the healthiest candy and why?')"
   ]
  },
  {
   "cell_type": "code",
   "execution_count": 5,
   "metadata": {},
   "outputs": [
    {
     "data": {
      "text/plain": [
       "'The healthiest candy that has chocolate and peanuts is ReeseÕs Miniatures.'"
      ]
     },
     "execution_count": 5,
     "metadata": {},
     "output_type": "execute_result"
    }
   ],
   "source": [
    "sdf.chat('Which is the healthiest candy that has chocolate and peanuts?')"
   ]
  },
  {
   "cell_type": "code",
   "execution_count": 12,
   "metadata": {},
   "outputs": [
    {
     "data": {
      "text/plain": [
       "\"Unfortunately, I was not able to answer your question, because of the following error:\\n\\n[Errno 2] No such file or directory: 'exports/charts/temp_chart.png'\\n\""
      ]
     },
     "execution_count": 12,
     "metadata": {},
     "output_type": "execute_result"
    },
    {
     "data": {
      "image/png": "[encoded data removed]",
      "text/plain": [
       "<Figure size 640x480 with 1 Axes>"
      ]
     },
     "metadata": {},
     "output_type": "display_data"
    }
   ],
   "source": [
    "sdf.chat('Properties are things like chocolate, peanuts, etc. Plot properties vs avg sugar percentage of candies with that property. Make the x-axis label be vertical.')"
   ]
  },
  {
   "cell_type": "code",
   "execution_count": 6,
   "metadata": {},
   "outputs": [
    {
     "data": {
      "text/plain": [
       "\"Unfortunately, I was not able to answer your question, because of the following error:\\n\\n'RangeIndex' object has no attribute 'combinations'\\n\""
      ]
     },
     "execution_count": 6,
     "metadata": {},
     "output_type": "execute_result"
    }
   ],
   "source": [
    "sdf.chat('What is the minimum combination of candies that together include all categories?')"
   ]
  },
  {
   "cell_type": "markdown",
   "metadata": {},
   "source": [
    "# And, honestly, too much more..."
   ]
  },
  {
   "cell_type": "markdown",
   "metadata": {},
   "source": [
    "### Advise\n",
    "- Someone probably has already thought your idea\n",
    "  - Probably, what they built was not good or is now abandoned\n",
    "  - Do some research first, get ideas, learn from your mistakes\n",
    "- Brainstorm a bit first\n",
    "  - Think through the problem you are facing and think to yourself, if I were to try to build a startup around this idea, what would that look like?\n",
    "  - Then google exactly that, it might exists already (goo! you can use it now and save yourself some time)\n",
    "- $$\n",
    "\n",
    "Resources:\n",
    "- Collections\n",
    "  - [AI Collection](https://github.com/ai-collection/ai-collection)\n",
    "  - [Awesome Generative AI](https://github.com/filipecalegario/awesome-generative-ai)\n",
    "- Search\n",
    "  - [Github](https://github.com/topics/generative-ai)\n",
    "  - [Google](https://letmegooglethat.com/?q=Generative+AI+for+excel+%2B+github)"
   ]
  }
 ],
 "metadata": {
  "kernelspec": {
   "display_name": "genai-bootcamp",
   "language": "python",
   "name": "python3"
  },
  "language_info": {
   "codemirror_mode": {
    "name": "ipython",
    "version": 3
   },
   "file_extension": ".py",
   "mimetype": "text/x-python",
   "name": "python",
   "nbconvert_exporter": "python",
   "pygments_lexer": "ipython3",
   "version": "3.10.11"
  },
  "orig_nbformat": 4
 },
 "nbformat": 4,
 "nbformat_minor": 2
}
