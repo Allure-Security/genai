{
    "cells": [
        {
            "cell_type": "markdown",
            "metadata": {},
            "source": [
                "# Day 2 - Tools and Libraries"
            ]
        },
        {
            "cell_type": "code",
            "execution_count": 1,
            "metadata": {},
            "outputs": [
                {
                    "data": {
                        "text/plain": [
                            "True"
                        ]
                    },
                    "execution_count": 1,
                    "metadata": {},
                    "output_type": "execute_result"
                }
            ],
            "source": [
                "%reload_ext autoreload\n",
                "%autoreload 2\n",
                "\n",
                "# Load environment variables\n",
                "import dotenv\n",
                "dotenv.load_dotenv(\"../../.env\", override=True)"
            ]
        },
        {
            "attachments": {},
            "cell_type": "markdown",
            "metadata": {},
            "source": [
                "# Orchestration - [Langchain](https://python.langchain.com/en/latest/index.html)"
            ]
        },
        {
            "cell_type": "markdown",
            "metadata": {},
            "source": [
                "\n",
                "# Langchain\n",
                "\n",
                "LangChain is a framework for developing applications powered by language models. \n",
                "The LangChain framework is designed around facilitating applications that are:\n",
                "- Data-aware: connect a language model to other sources of data\n",
                "- Agentic: allow a language model to interact with its environment\n",
                "\n",
                "\n",
                "## Useful Docs\n",
                "- [Agents](https://python.langchain.com/docs/modules/agents/)\n",
                "- [Retrieval](https://python.langchain.com/docs/modules/data_connection/)\n",
                "- [Memory](https://python.langchain.com/docs/modules/memory/)\n",
                "\n",
                "## *Covered in Bootcamp 1.0*\n",
                "If you are not familiar with these concepts at all, take a look here:\n",
                "- [Prompt Templates](https://github.com/georgian-io/genai-bootcamp/blob/main/archive/2023_june/notebooks/day-2/01-langchain.ipynb)\n",
                "- [Chains](https://github.com/georgian-io/genai-bootcamp/blob/main/archive/2023_june/notebooks/day-2/01-langchain.ipynb)\n",
                "- [Intro to Agents](https://github.com/georgian-io/genai-bootcamp/blob/main/archive/2023_june/notebooks/day-2/01-langchain.ipynb)"
            ]
        },
        {
            "attachments": {},
            "cell_type": "markdown",
            "metadata": {},
            "source": [
                "## Defining an LLM\n",
                "\n",
                "On day 1, we showed you several examples of how to do the same task using different APIs.\n",
                "\n",
                "Langchain makes switching between these backends easier"
            ]
        },
        {
            "cell_type": "code",
            "execution_count": 2,
            "metadata": {},
            "outputs": [],
            "source": [
                "import os\n",
                "from pprint import pprint\n",
                "from langchain.llms import BaseLLM\n",
                "from langchain.chat_models import ChatOpenAI\n",
                "from langchain.schema import HumanMessage\n",
                "from langchain.chat_models import ChatAnyscale\n",
                "from langchain.chat_models.vertexai import ChatVertexAI\n",
                "from langchain.chat_models.bedrock import BedrockChat\n",
                "    \n",
                "llms = {}\n",
                "\n",
                "# OpenAI\n",
                "llms['OpenAI GPT 3.5'] = ChatOpenAI(\n",
                "    model_name='gpt-3.5-turbo',\n",
                "    temperature=0,\n",
                ")\n",
                "\n",
                "llms['OpenAI GPT 4'] = ChatOpenAI(\n",
                "    model_name='gpt-4',\n",
                "    temperature=0,\n",
                ")\n",
                "\n",
                "# LLaMa 2\n",
                "llms['Llama 2 - 7B'] = ChatAnyscale(\n",
                "    anyscale_api_key=os.getenv('ANYSCALE_ENDPOINT_TOKEN'),\n",
                "    temperature=0, model_name=\"meta-llama/Llama-2-7b-chat-hf\", \n",
                "    streaming=True\n",
                ")\n",
                "\n",
                "llms['Llama 2 - 70B'] = ChatAnyscale(\n",
                "    anyscale_api_key=os.getenv('ANYSCALE_ENDPOINT_TOKEN'),\n",
                "    temperature=0, model_name=\"meta-llama/Llama-2-70b-chat-hf\", \n",
                "    streaming=True\n",
                ")\n",
                "\n",
                "# Google\n",
                "llms['Google PaLM'] = ChatVertexAI()\n",
                "\n",
                "# Claude (TBD)\n",
                "llms['Anthropic Claude 2'] = BedrockChat(model_id='anthropic.claude-v2')\n"
            ]
        },
        {
            "cell_type": "code",
            "execution_count": 45,
            "metadata": {},
            "outputs": [
                {
                    "name": "stdout",
                    "output_type": "stream",
                    "text": [
                        "\n",
                        "--- Testing OpenAI GPT 3.5 ---\n",
                        "('I am an AI language model developed by OpenAI. I am designed to assist with '\n",
                        " 'answering questions and engaging in conversations on a wide range of topics.')\n",
                        "\n",
                        "--- Testing OpenAI GPT 4 ---\n",
                        "('I am an artificial intelligence developed by OpenAI, known as GPT-3. I am '\n",
                        " 'designed to assist with information and tasks, and to engage in conversation '\n",
                        " 'with users.')\n",
                        "\n",
                        "--- Testing Llama 2 - 7B ---\n",
                        "(\"  Hello! I'm LLaMA, an AI assistant developed by Meta AI that can understand \"\n",
                        " 'and respond to human input in a conversational manner. My primary function '\n",
                        " \"is to assist and provide helpful responses to users' inquiries, much like a \"\n",
                        " \"chatbot or virtual assistant. I'm here to help you with any questions or \"\n",
                        " \"topics you'd like to discuss, so feel free to ask me anything!\")\n",
                        "\n",
                        "--- Testing Llama 2 - 70B ---\n",
                        "(\"  Hello! My name is LLaMA, I'm a large language model trained by a team of \"\n",
                        " 'researcher at Meta AI. My primary function is to understand and respond to '\n",
                        " 'human input in a helpful and engaging manner. I can answer questions, '\n",
                        " 'provide information, and even generate creative content such as stories or '\n",
                        " 'dialogue. Is there anything specific you would like to know or discuss?')\n",
                        "\n",
                        "--- Testing Google PaLM ---\n",
                        "' I am a large language model, trained by Google.\\n'\n",
                        "\n",
                        "--- Testing Anthropic Claude 2 ---\n",
                        "\" I'm Claude, an AI assistant created by Anthropic.\"\n"
                    ]
                }
            ],
            "source": [
                "\n",
                "def test_llm(llm: BaseLLM):\n",
                "    pprint(llm.predict_messages([HumanMessage(content=\"Who are you?\")]).content)\n",
                "\n",
                "for key, llm in llms.items():\n",
                "    print(f\"\\n--- Testing {key} ---\")\n",
                "    test_llm(llm)"
            ]
        },
        {
            "cell_type": "markdown",
            "metadata": {},
            "source": [
                "### Examples of projects using Langchain\n",
                "- [superagent](https://github.com/homanp/superagent/tree/main)\n",
                "- [gpt-engineer](https://github.com/AntonOsika/gpt-engineer)"
            ]
        },
        {
            "cell_type": "markdown",
            "metadata": {},
            "source": [
                "# Domain Specific - [Pandas AI](https://docs.pandas-ai.com/en/latest/)"
            ]
        },
        {
            "cell_type": "code",
            "execution_count": 46,
            "metadata": {},
            "outputs": [],
            "source": [
                "from pandasai import SmartDataframe\n",
                "from pandasai.helpers.logger import Logger\n",
                "import pandas as pd\n",
                "\n",
                "logger = Logger(verbose = True)"
            ]
        },
        {
            "cell_type": "code",
            "execution_count": 29,
            "metadata": {},
            "outputs": [],
            "source": [
                "df = pd.read_csv('../extra_resources/candy-data.csv')\n",
                "sdf = SmartDataframe(df, config={\"llm\": llms['OpenAI GPT 3.5']}, logger=logger)\n"
            ]
        },
        {
            "cell_type": "code",
            "execution_count": 30,
            "metadata": {},
            "outputs": [
                {
                    "data": {
                        "text/plain": [
                            "'The healthiest candy is One dime.'"
                        ]
                    },
                    "execution_count": 30,
                    "metadata": {},
                    "output_type": "execute_result"
                }
            ],
            "source": [
                "sdf.chat('Which is the healthiest candy and why?')"
            ]
        },
        {
            "cell_type": "code",
            "execution_count": 31,
            "metadata": {},
            "outputs": [
                {
                    "data": {
                        "text/plain": [
                            "'The healthiest candy with chocolate and peanuts is ReeseÕs Miniatures.'"
                        ]
                    },
                    "execution_count": 31,
                    "metadata": {},
                    "output_type": "execute_result"
                }
            ],
            "source": [
                "sdf.chat('Which is the healthiest candy that has chocolate and peanuts?')"
            ]
        },
        {
            "cell_type": "code",
            "execution_count": 32,
            "metadata": {},
            "outputs": [
                {
                    "data": {
                        "image/png": "[encoded data removed]",
                        "text/plain": [
                            "<Figure size 640x480 with 1 Axes>"
                        ]
                    },
                    "metadata": {},
                    "output_type": "display_data"
                }
            ],
            "source": [
                "sdf.chat('Properties are things like chocolate, peanuts, etc. Plot properties vs avg sugar percentage of candies with that property.')"
            ]
        },
        {
            "cell_type": "code",
            "execution_count": 42,
            "metadata": {},
            "outputs": [
                {
                    "data": {
                        "text/plain": [
                            "[{'msg': 'Using prompt: \\nYou are provided with the following pandas DataFrames:\\n\\n<dataframe>\\nDataframe dfs[0], with 85 rows and 13 columns.\\nThis is the metadata of the dataframe dfs[0]:\\ncompetitorname,chocolate,fruity,caramel,peanutyalmondy,nougat,crispedricewafer,hard,bar,pluribus,sugarpercent,pricepercent,winpercent\\nOne quarter,0,0,0,0,0,0,0,0,0,0.011,0.51099998,46.116505\\nAir Heads,0,1,0,0,0,0,0,0,0,0.90600002,0.51099998,52.341465\\n3 Musketeers,1,0,0,0,1,0,0,1,0,0.60399997,0.51099998,67.602936\\nOne dime,0,0,0,0,0,0,0,0,0,0.011,0.116,32.261086\\n100 Grand,1,0,1,0,0,1,0,1,0,0.73199999,0.86000001,66.971725\\n</dataframe>\\n\\n<conversation>\\nUser 1: Explain the previous plot?\\n</conversation>\\n\\nThis is the initial python code to be updated:\\n```python\\n# TODO import all the dependencies required\\nimport pandas as pd\\n\\ndef analyze_data(dfs: list[pd.DataFrame]) -> dict:\\n    \"\"\"\\n    Analyze the data\\n    1. Prepare: Preprocessing and cleaning data if necessary\\n    2. Process: Manipulating data for analysis (grouping, filtering, aggregating, etc.)\\n    3. Analyze: Conducting the actual analysis (if the user asks to plot a chart save it to an image in temp_chart.png and do not show the chart.)\\n    At the end, return a dictionary of:\\n    - type (possible values \"string\", \"number\", \"dataframe\", \"plot\")\\n    - value (can be a string, a dataframe or the path of the plot, NOT a dictionary)\\n    Examples: \\n        { \"type\": \"string\", \"value\": \"The highest salary is $9,000.\" }\\n        or\\n        { \"type\": \"number\", \"value\": 125 }\\n        or\\n        { \"type\": \"dataframe\", \"value\": pd.DataFrame({...}) }\\n        or\\n        { \"type\": \"plot\", \"value\": \"temp_chart.png\" }\\n    \"\"\"\\n```\\n\\nUsing the provided dataframes (`dfs`), update the python code based on the last question in the conversation.\\n\\nUpdated code:\\n',\n",
                            "  'level': 'INFO',\n",
                            "  'time': 0.014180898666381836,\n",
                            "  'source': 'SmartDatalake'},\n",
                            " {'msg': 'Code generated:\\n```\\n# TODO import all the dependencies required\\nimport pandas as pd\\n\\ndef analyze_data(dfs: list[pd.DataFrame]) -> dict:\\n    \"\"\"\\n    Analyze the data\\n    1. Prepare: Preprocessing and cleaning data if necessary\\n    2. Process: Manipulating data for analysis (grouping, filtering, aggregating, etc.)\\n    3. Analyze: Conducting the actual analysis (if the user asks to plot a chart save it to an image in temp_chart.png and do not show the chart.)\\n    At the end, return a dictionary of:\\n    - type (possible values \"string\", \"number\", \"dataframe\", \"plot\")\\n    - value (can be a string, a dataframe or the path of the plot, NOT a dictionary)\\n    Examples: \\n        { \"type\": \"string\", \"value\": \"The highest salary is $9,000.\" }\\n        or\\n        { \"type\": \"number\", \"value\": 125 }\\n        or\\n        { \"type\": \"dataframe\", \"value\": pd.DataFrame({...}) }\\n        or\\n        { \"type\": \"plot\", \"value\": \"temp_chart.png\" }\\n    \"\"\"\\n    # Prepare: No preprocessing or cleaning required\\n    \\n    # Process: No data manipulation required\\n    \\n    # Analyze: Check if the user is asking about the previous plot\\n    if \"previous plot\" in dfs[0].columns:\\n        plot_path = dfs[0].loc[0, \"previous plot\"]\\n        return {\"type\": \"plot\", \"value\": plot_path}\\n    \\n    return {\"type\": \"string\", \"value\": \"There is no previous plot.\"}\\n```\\n',\n",
                            "  'level': 'INFO',\n",
                            "  'time': 4.668792247772217,\n",
                            "  'source': 'SmartDatalake'},\n",
                            " {'msg': '\\nCode running:\\n```\\ndef analyze_data(dfs: list[pd.DataFrame]) ->dict:\\n    \"\"\"\\n    Analyze the data\\n    1. Prepare: Preprocessing and cleaning data if necessary\\n    2. Process: Manipulating data for analysis (grouping, filtering, aggregating, etc.)\\n    3. Analyze: Conducting the actual analysis (if the user asks to plot a chart save it to an image in temp_chart.png and do not show the chart.)\\n    At the end, return a dictionary of:\\n    - type (possible values \"string\", \"number\", \"dataframe\", \"plot\")\\n    - value (can be a string, a dataframe or the path of the plot, NOT a dictionary)\\n    Examples: \\n        { \"type\": \"string\", \"value\": \"The highest salary is $9,000.\" }\\n        or\\n        { \"type\": \"number\", \"value\": 125 }\\n        or\\n        { \"type\": \"dataframe\", \"value\": pd.DataFrame({...}) }\\n        or\\n        { \"type\": \"plot\", \"value\": \"temp_chart.png\" }\\n    \"\"\"\\n    if \\'previous plot\\' in dfs[0].columns:\\n        plot_path = dfs[0].loc[0, \\'previous plot\\']\\n        return {\\'type\\': \\'plot\\', \\'value\\': plot_path}\\n    return {\\'type\\': \\'string\\', \\'value\\': \\'There is no previous plot.\\'}\\n        ```',\n",
                            "  'level': 'INFO',\n",
                            "  'time': 0.025958776473999023,\n",
                            "  'source': 'CodeManager'},\n",
                            " {'msg': \"Answer: {'type': 'string', 'value': 'There is no previous plot.'}\",\n",
                            "  'level': 'INFO',\n",
                            "  'time': 0.011452198028564453,\n",
                            "  'source': 'SmartDatalake'},\n",
                            " {'msg': 'Executed in: 4.774725914001465s',\n",
                            "  'level': 'INFO',\n",
                            "  'time': 0.010036945343017578,\n",
                            "  'source': 'SmartDatalake'}]"
                        ]
                    },
                    "execution_count": 42,
                    "metadata": {},
                    "output_type": "execute_result"
                }
            ],
            "source": [
                "# You can check the tool logs like this\n",
                "logger.logs[-5:]"
            ]
        },
        {
            "cell_type": "markdown",
            "metadata": {},
            "source": [
                "# And many more\n",
                "\n",
                "### Advice\n",
                "- Someone probably has already thought your idea\n",
                "  - Do some research first, get ideas, learn from your mistakes\n",
                "- Brainstorm a bit first\n",
                "  - Think through the problem you are facing and think to yourself, if I were to try to build a startup around this idea, what would that look like?\n",
                "  - Then google exactly that, it might exists already (good! you can start from there and save yourself some time)\n",
                "\n",
                "Resources:\n",
                "- Collections\n",
                "  - [AI Collection](https://github.com/ai-collection/ai-collection)\n",
                "  - [Awesome Generative AI](https://github.com/filipecalegario/awesome-generative-ai)\n",
                "- Search\n",
                "  - [Github](https://github.com/topics/generative-ai)\n",
                "  - [Google](https://letmegooglethat.com/?q=Generative+AI+for+excel+%2B+github)"
            ]
        },
        {
            "cell_type": "markdown",
            "metadata": {},
            "source": []
        }
    ],
    "metadata": {
        "kernelspec": {
            "display_name": "genai-bootcamp",
            "language": "python",
            "name": "python3"
        },
        "language_info": {
            "codemirror_mode": {
                "name": "ipython",
                "version": 3
            },
            "file_extension": ".py",
            "mimetype": "text/x-python",
            "name": "python",
            "nbconvert_exporter": "python",
            "pygments_lexer": "ipython3",
            "version": "3.11.6"
        },
        "orig_nbformat": 4
    },
    "nbformat": 4,
    "nbformat_minor": 2
}
